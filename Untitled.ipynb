{
 "cells": [
  {
   "cell_type": "code",
   "execution_count": 1,
   "metadata": {
    "collapsed": true
   },
   "outputs": [],
   "source": [
    "import pymongo\n"
   ]
  },
  {
   "cell_type": "code",
   "execution_count": 2,
   "metadata": {
    "collapsed": true
   },
   "outputs": [],
   "source": [
    "conn = 'mongodb://localhost:27017'\n",
    "client = pymongo.MongoClient(conn)\n",
    "db = client.mars_db\n"
   ]
  },
  {
   "cell_type": "code",
   "execution_count": 4,
   "metadata": {},
   "outputs": [],
   "source": [
    "marsdata=db.marsdata.find()"
   ]
  },
  {
   "cell_type": "code",
   "execution_count": 5,
   "metadata": {},
   "outputs": [
    {
     "name": "stdout",
     "output_type": "stream",
     "text": [
      "{'_id': ObjectId('5aedc58da8eb310337747535'), 'news_title': 'NASA Invests in Visionary Technology ', 'news_p': 'NASA is investing in technology concepts, including several from JPL, that may one day be used for future space exploration missions.'}\n",
      "{'_id': ObjectId('5aedc58da8eb310337747536'), 'news_title': 'NASA is Ready to Study the Heart of Mars', 'news_p': 'NASA is about to go on a journey to study the center of Mars.'}\n",
      "{'_id': ObjectId('5aedc58da8eb310337747537'), 'news_title': 'NASA Briefing on First Mission to Study Mars Interior', 'news_p': 'NASA’s next mission to Mars will be the topic of a media briefing Thursday, March 29, at JPL. The briefing will air live on NASA Television and the agency’s website.'}\n",
      "{'_id': ObjectId('5aedc58da8eb310337747538'), 'news_title': \"New 'AR' Mobile App Features 3-D NASA Spacecraft\", 'news_p': \"NASA spacecraft travel to far-off destinations in space, but a new mobile app produced by NASA's Jet Propulsion Laboratory, Pasadena, California, brings spacecraft to users.\"}\n",
      "{'_id': ObjectId('5aedc58da8eb310337747539'), 'news_title': 'Witness First Mars Launch from West Coast', 'news_p': \"NASA invites digital creators to apply for social media credentials to cover the launch of the InSight mission to Mars, May 3-5, at California's Vandenberg Air Force Base.\"}\n",
      "{'_id': ObjectId('5aedc58da8eb31033774753a'), 'news_title': 'NASA InSight Mission to Mars Arrives at Launch Site', 'news_p': \"NASA's InSight spacecraft has arrived at Vandenberg Air Force Base in central California to begin final preparations for a launch this May.\"}\n",
      "{'_id': ObjectId('5aedc58da8eb31033774753b'), 'featured_image': 'https://www.jpl.nasa.gov/spaceimages/images/mediumsize/PIA16153_ip.jpg'}\n",
      "{'_id': ObjectId('5aedc58da8eb31033774753c'), 'mars_weather': 'Sol 2039 (May 02, 2018), Sunny, high 0C/32F, low -74C/-101F, pressure at 7.28 hPa, daylight 05:23-17:20'}\n",
      "{'_id': ObjectId('5aedc58da8eb31033774753d'), 'img_url': 'http://astropedia.astrogeology.usgs.gov/download/Mars/Viking/cerberus_enhanced.tif/full.jpg', 'title': 'Cerberus Hemisphere Enhanced'}\n",
      "{'_id': ObjectId('5aedc58da8eb31033774753e'), 'img_url': 'http://astropedia.astrogeology.usgs.gov/download/Mars/Viking/schiaparelli_enhanced.tif/full.jpg', 'title': 'Schiaparelli Hemisphere Enhanced'}\n",
      "{'_id': ObjectId('5aedc58da8eb31033774753f'), 'img_url': 'http://astropedia.astrogeology.usgs.gov/download/Mars/Viking/syrtis_major_enhanced.tif/full.jpg', 'title': 'Syrtis Major Hemisphere Enhanced'}\n",
      "{'_id': ObjectId('5aedc58da8eb310337747540'), 'img_url': 'http://astropedia.astrogeology.usgs.gov/download/Mars/Viking/valles_marineris_enhanced.tif/full.jpg', 'title': 'Valles Marineris Hemisphere Enhanced'}\n",
      "{'_id': ObjectId('5aedc58da8eb310337747541'), 'Characteristic': 'Equatorial Diameter:', 'Value': '6,792 km'}\n",
      "{'_id': ObjectId('5aedc58da8eb310337747542'), 'Characteristic': 'Polar Diameter:', 'Value': '6,752 km'}\n",
      "{'_id': ObjectId('5aedc58da8eb310337747543'), 'Characteristic': 'Mass:', 'Value': '6.42 x 10^23 kg (10.7% Earth)'}\n",
      "{'_id': ObjectId('5aedc58da8eb310337747544'), 'Characteristic': 'Moons:', 'Value': '2 (Phobos & Deimos)'}\n",
      "{'_id': ObjectId('5aedc58da8eb310337747545'), 'Characteristic': 'Orbit Distance:', 'Value': '227,943,824 km (1.52 AU)'}\n",
      "{'_id': ObjectId('5aedc58da8eb310337747546'), 'Characteristic': 'Orbit Period:', 'Value': '687 days (1.9 years)'}\n",
      "{'_id': ObjectId('5aedc58da8eb310337747547'), 'Characteristic': 'Surface Temperature:', 'Value': '-153 to 20 °C'}\n",
      "{'_id': ObjectId('5aedc58da8eb310337747548'), 'Characteristic': 'First Record:', 'Value': '2nd millennium BC'}\n",
      "{'_id': ObjectId('5aedc58da8eb310337747549'), 'Characteristic': 'Recorded By:', 'Value': 'Egyptian astronomers'}\n"
     ]
    }
   ],
   "source": [
    "results = db.marsdata.find()\n",
    "for result in results:\n",
    "    print(result)"
   ]
  },
  {
   "cell_type": "code",
   "execution_count": null,
   "metadata": {
    "collapsed": true
   },
   "outputs": [],
   "source": []
  }
 ],
 "metadata": {
  "kernelspec": {
   "display_name": "Python 3",
   "language": "python",
   "name": "python3"
  },
  "language_info": {
   "codemirror_mode": {
    "name": "ipython",
    "version": 3
   },
   "file_extension": ".py",
   "mimetype": "text/x-python",
   "name": "python",
   "nbconvert_exporter": "python",
   "pygments_lexer": "ipython3",
   "version": "3.6.3"
  },
  "varInspector": {
   "cols": {
    "lenName": 16,
    "lenType": 16,
    "lenVar": 40
   },
   "kernels_config": {
    "python": {
     "delete_cmd_postfix": "",
     "delete_cmd_prefix": "del ",
     "library": "var_list.py",
     "varRefreshCmd": "print(var_dic_list())"
    },
    "r": {
     "delete_cmd_postfix": ") ",
     "delete_cmd_prefix": "rm(",
     "library": "var_list.r",
     "varRefreshCmd": "cat(var_dic_list()) "
    }
   },
   "types_to_exclude": [
    "module",
    "function",
    "builtin_function_or_method",
    "instance",
    "_Feature"
   ],
   "window_display": false
  }
 },
 "nbformat": 4,
 "nbformat_minor": 2
}
