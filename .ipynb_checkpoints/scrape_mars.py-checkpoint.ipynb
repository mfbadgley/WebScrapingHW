{
 "cells": [
  {
   "cell_type": "code",
   "execution_count": null,
   "metadata": {
    "collapsed": true
   },
   "outputs": [],
   "source": [
    "#Scrape the NASA Mars News Site and collect the latest News Title and Paragragh Text. \n",
    "#Assign the text to variables that you can reference later.\n",
    "#Visit the url for JPL's Featured Space Image here.\n",
    "#Use splinter to navigate the site and find the image url for the current Featured Mars Image and assign \n",
    "#the url string to a variable called featured_image_url."
   ]
  },
  {
   "cell_type": "code",
   "execution_count": 109,
   "metadata": {
    "collapsed": true
   },
   "outputs": [],
   "source": [
    "# Dependencies\n",
    "from bs4 import BeautifulSoup\n",
    "from splinter import Browser\n",
    "import requests\n",
    "import pymongo\n",
    "import pandas as pd\n",
    "\n"
   ]
  },
  {
   "cell_type": "code",
   "execution_count": 77,
   "metadata": {
    "collapsed": true
   },
   "outputs": [],
   "source": [
    "# Initialize PyMongo to work with MongoDBs, make sure in terminal, fire up mongoDB by typing \"mongod\"\n",
    "conn = 'mongodb://localhost:27017'\n",
    "client = pymongo.MongoClient(conn)\n"
   ]
  },
  {
   "cell_type": "code",
   "execution_count": 132,
   "metadata": {},
   "outputs": [],
   "source": [
    "# Define database and collection\n",
    "db.collection.drop()\n",
    "db = client.mars_db\n",
    "collection = db.newstitle"
   ]
  },
  {
   "cell_type": "code",
   "execution_count": 116,
   "metadata": {},
   "outputs": [],
   "source": [
    "#url to be scraped\n",
    "url = 'https://mars.nasa.gov/news/?page=0&per_page=40&order=publish_date+desc%2Ccreated_at+desc&search=&category=19%2C165%2C184%2C204&blank_scope=Latest'"
   ]
  },
  {
   "cell_type": "code",
   "execution_count": 117,
   "metadata": {
    "collapsed": true
   },
   "outputs": [],
   "source": [
    "# Retrieve page with the requests module\n",
    "response = requests.get(url)\n",
    "# Create BeautifulSoup object; parse with 'lxml'\n",
    "soup = BeautifulSoup(response.text, 'lxml')"
   ]
  },
  {
   "cell_type": "code",
   "execution_count": 128,
   "metadata": {},
   "outputs": [
    {
     "name": "stdout",
     "output_type": "stream",
     "text": [
      "[<div class=\"slide\">\n",
      "<div class=\"image_and_description_container\">\n",
      "<a href=\"/news/8326/nasa-invests-in-visionary-technology/\">\n",
      "<div class=\"rollover_description\">\n",
      "<div class=\"rollover_description_inner\">\n",
      "NASA is investing in technology concepts, including several from JPL, that may one day be used for future space exploration missions.\n",
      "</div>\n",
      "<div class=\"overlay_arrow\">\n",
      "<img alt=\"More\" src=\"/assets/overlay-arrow.png\"/>\n",
      "</div>\n",
      "</div>\n",
      "<img alt=\"NASA Invests in Visionary Technology \" class=\"img-lazy\" data-lazy=\"/system/news_items/list_view_images/8326_niac320.jpg\" src=\"/assets/loading_320x240.png\"/>\n",
      "</a>\n",
      "</div>\n",
      "<div class=\"content_title\">\n",
      "<a href=\"/news/8326/nasa-invests-in-visionary-technology/\">\n",
      "NASA Invests in Visionary Technology \n",
      "</a>\n",
      "</div>\n",
      "</div>, <div class=\"slide\">\n",
      "<div class=\"image_and_description_container\">\n",
      "<a href=\"/news/8325/nasa-is-ready-to-study-the-heart-of-mars/\">\n",
      "<div class=\"rollover_description\">\n",
      "<div class=\"rollover_description_inner\">\n",
      "NASA is about to go on a journey to study the center of Mars.\n",
      "</div>\n",
      "<div class=\"overlay_arrow\">\n",
      "<img alt=\"More\" src=\"/assets/overlay-arrow.png\"/>\n",
      "</div>\n",
      "</div>\n",
      "<img alt=\"NASA is Ready to Study the Heart of Mars\" class=\"img-lazy\" data-lazy=\"/system/news_items/list_view_images/8325_insight20180329b_320.jpg\" src=\"/assets/loading_320x240.png\"/>\n",
      "</a>\n",
      "</div>\n",
      "<div class=\"content_title\">\n",
      "<a href=\"/news/8325/nasa-is-ready-to-study-the-heart-of-mars/\">\n",
      "NASA is Ready to Study the Heart of Mars\n",
      "</a>\n",
      "</div>\n",
      "</div>, <div class=\"slide\">\n",
      "<div class=\"image_and_description_container\">\n",
      "<a href=\"/news/8322/nasa-briefing-on-first-mission-to-study-mars-interior/\">\n",
      "<div class=\"rollover_description\">\n",
      "<div class=\"rollover_description_inner\">\n",
      "NASA’s next mission to Mars will be the topic of a media briefing Thursday, March 29, at JPL. The briefing will air live on NASA Television and the agency’s website.\n",
      "</div>\n",
      "<div class=\"overlay_arrow\">\n",
      "<img alt=\"More\" src=\"/assets/overlay-arrow.png\"/>\n",
      "</div>\n",
      "</div>\n",
      "<img alt=\"NASA Briefing on First Mission to Study Mars Interior\" class=\"img-lazy\" data-lazy=\"/system/news_items/list_view_images/8322_PIA22228_320.jpg\" src=\"/assets/loading_320x240.png\"/>\n",
      "</a>\n",
      "</div>\n",
      "<div class=\"content_title\">\n",
      "<a href=\"/news/8322/nasa-briefing-on-first-mission-to-study-mars-interior/\">\n",
      "NASA Briefing on First Mission to Study Mars Interior\n",
      "</a>\n",
      "</div>\n",
      "</div>, <div class=\"slide\">\n",
      "<div class=\"image_and_description_container\">\n",
      "<a href=\"/news/8321/new-ar-mobile-app-features-3-d-nasa-spacecraft/\">\n",
      "<div class=\"rollover_description\">\n",
      "<div class=\"rollover_description_inner\">\n",
      "NASA spacecraft travel to far-off destinations in space, but a new mobile app produced by NASA's Jet Propulsion Laboratory, Pasadena, California, brings spacecraft to users.\n",
      "</div>\n",
      "<div class=\"overlay_arrow\">\n",
      "<img alt=\"More\" src=\"/assets/overlay-arrow.png\"/>\n",
      "</div>\n",
      "</div>\n",
      "<img alt=\"New 'AR' Mobile App Features 3-D NASA Spacecraft\" class=\"img-lazy\" data-lazy=\"/system/news_items/list_view_images/8321_list_image.jpg\" src=\"/assets/loading_320x240.png\"/>\n",
      "</a>\n",
      "</div>\n",
      "<div class=\"content_title\">\n",
      "<a href=\"/news/8321/new-ar-mobile-app-features-3-d-nasa-spacecraft/\">\n",
      "New 'AR' Mobile App Features 3-D NASA Spacecraft\n",
      "</a>\n",
      "</div>\n",
      "</div>, <div class=\"slide\">\n",
      "<div class=\"image_and_description_container\">\n",
      "<a href=\"/news/8317/witness-first-mars-launch-from-west-coast/\">\n",
      "<div class=\"rollover_description\">\n",
      "<div class=\"rollover_description_inner\">\n",
      "NASA invites digital creators to apply for social media credentials to cover the launch of the InSight mission to Mars, May 3-5, at California's Vandenberg Air Force Base.\n",
      "</div>\n",
      "<div class=\"overlay_arrow\">\n",
      "<img alt=\"More\" src=\"/assets/overlay-arrow.png\"/>\n",
      "</div>\n",
      "</div>\n",
      "<img alt=\"Witness First Mars Launch from West Coast\" class=\"img-lazy\" data-lazy=\"/system/news_items/list_view_images/8317_list_image.jpg\" src=\"/assets/loading_320x240.png\"/>\n",
      "</a>\n",
      "</div>\n",
      "<div class=\"content_title\">\n",
      "<a href=\"/news/8317/witness-first-mars-launch-from-west-coast/\">\n",
      "Witness First Mars Launch from West Coast\n",
      "</a>\n",
      "</div>\n",
      "</div>, <div class=\"slide\">\n",
      "<div class=\"image_and_description_container\">\n",
      "<a href=\"/news/8315/nasa-insight-mission-to-mars-arrives-at-launch-site/\">\n",
      "<div class=\"rollover_description\">\n",
      "<div class=\"rollover_description_inner\">\n",
      "NASA's InSight spacecraft has arrived at Vandenberg Air Force Base in central California to begin final preparations for a launch this May.\n",
      "</div>\n",
      "<div class=\"overlay_arrow\">\n",
      "<img alt=\"More\" src=\"/assets/overlay-arrow.png\"/>\n",
      "</div>\n",
      "</div>\n",
      "<img alt=\"NASA InSight Mission to Mars Arrives at Launch Site\" class=\"img-lazy\" data-lazy=\"/system/news_items/list_view_images/8315_list_image.jpg\" src=\"/assets/loading_320x240.png\"/>\n",
      "</a>\n",
      "</div>\n",
      "<div class=\"content_title\">\n",
      "<a href=\"/news/8315/nasa-insight-mission-to-mars-arrives-at-launch-site/\">\n",
      "NASA InSight Mission to Mars Arrives at Launch Site\n",
      "</a>\n",
      "</div>\n",
      "</div>]\n"
     ]
    }
   ],
   "source": [
    "# print(soup)\n",
    "# Examine the results, then determine element that contains sought info\n",
    "# results are returned as an iterable list\n",
    "results = soup.find_all(class_=\"slide\")\n",
    "print(results)"
   ]
  },
  {
   "cell_type": "code",
   "execution_count": 129,
   "metadata": {},
   "outputs": [
    {
     "name": "stdout",
     "output_type": "stream",
     "text": [
      "-------------\n",
      "NASA Invests in Visionary Technology \n",
      "NASA is investing in technology concepts, including several from JPL, that may one day be used for future space exploration missions.\n",
      "-------------\n",
      "NASA is Ready to Study the Heart of Mars\n",
      "NASA is about to go on a journey to study the center of Mars.\n",
      "-------------\n",
      "NASA Briefing on First Mission to Study Mars Interior\n",
      "NASA’s next mission to Mars will be the topic of a media briefing Thursday, March 29, at JPL. The briefing will air live on NASA Television and the agency’s website.\n",
      "-------------\n",
      "New 'AR' Mobile App Features 3-D NASA Spacecraft\n",
      "NASA spacecraft travel to far-off destinations in space, but a new mobile app produced by NASA's Jet Propulsion Laboratory, Pasadena, California, brings spacecraft to users.\n",
      "-------------\n",
      "Witness First Mars Launch from West Coast\n",
      "NASA invites digital creators to apply for social media credentials to cover the launch of the InSight mission to Mars, May 3-5, at California's Vandenberg Air Force Base.\n",
      "-------------\n",
      "NASA InSight Mission to Mars Arrives at Launch Site\n",
      "NASA's InSight spacecraft has arrived at Vandenberg Air Force Base in central California to begin final preparations for a launch this May.\n"
     ]
    }
   ],
   "source": [
    "# Loop through returned results\n",
    "for result in results:\n",
    "    # Error handling\n",
    "    try:\n",
    "        \n",
    "        \n",
    "        paragraph = result.find(class_=\"rollover_description_inner\").text.replace('\\n', '')\n",
    "        title = result.find(class_=\"content_title\").text.replace('\\n', '')\n",
    "\n",
    "        # Print results only if title, price, and link are available\n",
    "        if (paragraph and title):\n",
    "            print('-------------')\n",
    "            print(title)\n",
    "            print(paragraph)\n",
    "            \n",
    "            #Dictionary to be inserted as a MongoDb document\n",
    "            post = {\"title\": title,\n",
    "                    \"paragraph\":paragraph}\n",
    "\n",
    "            collection.insert_one(post)\n",
    "            \n",
    "    except Exception as e:\n",
    "           print(e)\n",
    "        "
   ]
  },
  {
   "cell_type": "code",
   "execution_count": 130,
   "metadata": {},
   "outputs": [
    {
     "name": "stdout",
     "output_type": "stream",
     "text": [
      "{'_id': ObjectId('5ae5d6b5d89d4f7913e944cc'), 'title': '\\n\\nNASA InSight Mission to Mars Arrives at Launch Site\\n\\n', 'paragraph': \"\\nNASA's InSight spacecraft has arrived at Vandenberg Air Force Base in central California to begin final preparations for a launch this May.\\n\"}\n",
      "{'_id': ObjectId('5ae5d716d89d4f7913e944cd'), 'title': '\\n\\nNASA Invests in Visionary Technology \\n\\n', 'paragraph': '\\nNASA is investing in technology concepts, including several from JPL, that may one day be used for future space exploration missions.\\n'}\n",
      "{'_id': ObjectId('5ae5d716d89d4f7913e944ce'), 'title': '\\n\\nNASA is Ready to Study the Heart of Mars\\n\\n', 'paragraph': '\\nNASA is about to go on a journey to study the center of Mars.\\n'}\n",
      "{'_id': ObjectId('5ae5d716d89d4f7913e944cf'), 'title': '\\n\\nNASA Briefing on First Mission to Study Mars Interior\\n\\n', 'paragraph': '\\nNASA’s next mission to Mars will be the topic of a media briefing Thursday, March 29, at JPL. The briefing will air live on NASA Television and the agency’s website.\\n'}\n",
      "{'_id': ObjectId('5ae5d716d89d4f7913e944d0'), 'title': \"\\n\\nNew 'AR' Mobile App Features 3-D NASA Spacecraft\\n\\n\", 'paragraph': \"\\nNASA spacecraft travel to far-off destinations in space, but a new mobile app produced by NASA's Jet Propulsion Laboratory, Pasadena, California, brings spacecraft to users.\\n\"}\n",
      "{'_id': ObjectId('5ae5d716d89d4f7913e944d1'), 'title': '\\n\\nWitness First Mars Launch from West Coast\\n\\n', 'paragraph': \"\\nNASA invites digital creators to apply for social media credentials to cover the launch of the InSight mission to Mars, May 3-5, at California's Vandenberg Air Force Base.\\n\"}\n",
      "{'_id': ObjectId('5ae5d716d89d4f7913e944d2'), 'title': '\\n\\nNASA InSight Mission to Mars Arrives at Launch Site\\n\\n', 'paragraph': \"\\nNASA's InSight spacecraft has arrived at Vandenberg Air Force Base in central California to begin final preparations for a launch this May.\\n\"}\n",
      "{'_id': ObjectId('5ae6703dd89d4f7913e944d3'), 'title': '\\n\\nNASA Invests in Visionary Technology \\n\\n', 'paragraph': '\\nNASA is investing in technology concepts, including several from JPL, that may one day be used for future space exploration missions.\\n'}\n",
      "{'_id': ObjectId('5ae6703dd89d4f7913e944d4'), 'title': '\\n\\nNASA is Ready to Study the Heart of Mars\\n\\n', 'paragraph': '\\nNASA is about to go on a journey to study the center of Mars.\\n'}\n",
      "{'_id': ObjectId('5ae6703dd89d4f7913e944d5'), 'title': '\\n\\nNASA Briefing on First Mission to Study Mars Interior\\n\\n', 'paragraph': '\\nNASA’s next mission to Mars will be the topic of a media briefing Thursday, March 29, at JPL. The briefing will air live on NASA Television and the agency’s website.\\n'}\n",
      "{'_id': ObjectId('5ae6703dd89d4f7913e944d6'), 'title': \"\\n\\nNew 'AR' Mobile App Features 3-D NASA Spacecraft\\n\\n\", 'paragraph': \"\\nNASA spacecraft travel to far-off destinations in space, but a new mobile app produced by NASA's Jet Propulsion Laboratory, Pasadena, California, brings spacecraft to users.\\n\"}\n",
      "{'_id': ObjectId('5ae6703dd89d4f7913e944d7'), 'title': '\\n\\nWitness First Mars Launch from West Coast\\n\\n', 'paragraph': \"\\nNASA invites digital creators to apply for social media credentials to cover the launch of the InSight mission to Mars, May 3-5, at California's Vandenberg Air Force Base.\\n\"}\n",
      "{'_id': ObjectId('5ae6703dd89d4f7913e944d8'), 'title': '\\n\\nNASA InSight Mission to Mars Arrives at Launch Site\\n\\n', 'paragraph': \"\\nNASA's InSight spacecraft has arrived at Vandenberg Air Force Base in central California to begin final preparations for a launch this May.\\n\"}\n",
      "{'_id': ObjectId('5ae67069d89d4f7913e944d9'), 'title': '\\n\\nNASA Invests in Visionary Technology \\n\\n', 'paragraph': 'NASA is investing in technology concepts, including several from JPL, that may one day be used for future space exploration missions.'}\n",
      "{'_id': ObjectId('5ae67069d89d4f7913e944da'), 'title': '\\n\\nNASA is Ready to Study the Heart of Mars\\n\\n', 'paragraph': 'NASA is about to go on a journey to study the center of Mars.'}\n",
      "{'_id': ObjectId('5ae67069d89d4f7913e944db'), 'title': '\\n\\nNASA Briefing on First Mission to Study Mars Interior\\n\\n', 'paragraph': 'NASA’s next mission to Mars will be the topic of a media briefing Thursday, March 29, at JPL. The briefing will air live on NASA Television and the agency’s website.'}\n",
      "{'_id': ObjectId('5ae67069d89d4f7913e944dc'), 'title': \"\\n\\nNew 'AR' Mobile App Features 3-D NASA Spacecraft\\n\\n\", 'paragraph': \"NASA spacecraft travel to far-off destinations in space, but a new mobile app produced by NASA's Jet Propulsion Laboratory, Pasadena, California, brings spacecraft to users.\"}\n",
      "{'_id': ObjectId('5ae67069d89d4f7913e944dd'), 'title': '\\n\\nWitness First Mars Launch from West Coast\\n\\n', 'paragraph': \"NASA invites digital creators to apply for social media credentials to cover the launch of the InSight mission to Mars, May 3-5, at California's Vandenberg Air Force Base.\"}\n",
      "{'_id': ObjectId('5ae67069d89d4f7913e944de'), 'title': '\\n\\nNASA InSight Mission to Mars Arrives at Launch Site\\n\\n', 'paragraph': \"NASA's InSight spacecraft has arrived at Vandenberg Air Force Base in central California to begin final preparations for a launch this May.\"}\n",
      "{'_id': ObjectId('5ae6708bd89d4f7913e944df'), 'title': 'NASA Invests in Visionary Technology ', 'paragraph': 'NASA is investing in technology concepts, including several from JPL, that may one day be used for future space exploration missions.'}\n",
      "{'_id': ObjectId('5ae6708bd89d4f7913e944e0'), 'title': 'NASA is Ready to Study the Heart of Mars', 'paragraph': 'NASA is about to go on a journey to study the center of Mars.'}\n",
      "{'_id': ObjectId('5ae6708bd89d4f7913e944e1'), 'title': 'NASA Briefing on First Mission to Study Mars Interior', 'paragraph': 'NASA’s next mission to Mars will be the topic of a media briefing Thursday, March 29, at JPL. The briefing will air live on NASA Television and the agency’s website.'}\n",
      "{'_id': ObjectId('5ae6708bd89d4f7913e944e2'), 'title': \"New 'AR' Mobile App Features 3-D NASA Spacecraft\", 'paragraph': \"NASA spacecraft travel to far-off destinations in space, but a new mobile app produced by NASA's Jet Propulsion Laboratory, Pasadena, California, brings spacecraft to users.\"}\n",
      "{'_id': ObjectId('5ae6708bd89d4f7913e944e3'), 'title': 'Witness First Mars Launch from West Coast', 'paragraph': \"NASA invites digital creators to apply for social media credentials to cover the launch of the InSight mission to Mars, May 3-5, at California's Vandenberg Air Force Base.\"}\n",
      "{'_id': ObjectId('5ae6708bd89d4f7913e944e4'), 'title': 'NASA InSight Mission to Mars Arrives at Launch Site', 'paragraph': \"NASA's InSight spacecraft has arrived at Vandenberg Air Force Base in central California to begin final preparations for a launch this May.\"}\n",
      "{'_id': ObjectId('5ae67179d89d4f7913e944e5'), 'title': 'NASA Invests in Visionary Technology ', 'paragraph': 'NASA is investing in technology concepts, including several from JPL, that may one day be used for future space exploration missions.'}\n",
      "{'_id': ObjectId('5ae67179d89d4f7913e944e6'), 'title': 'NASA is Ready to Study the Heart of Mars', 'paragraph': 'NASA is about to go on a journey to study the center of Mars.'}\n",
      "{'_id': ObjectId('5ae67179d89d4f7913e944e7'), 'title': 'NASA Briefing on First Mission to Study Mars Interior', 'paragraph': 'NASA’s next mission to Mars will be the topic of a media briefing Thursday, March 29, at JPL. The briefing will air live on NASA Television and the agency’s website.'}\n",
      "{'_id': ObjectId('5ae67179d89d4f7913e944e8'), 'title': \"New 'AR' Mobile App Features 3-D NASA Spacecraft\", 'paragraph': \"NASA spacecraft travel to far-off destinations in space, but a new mobile app produced by NASA's Jet Propulsion Laboratory, Pasadena, California, brings spacecraft to users.\"}\n",
      "{'_id': ObjectId('5ae67179d89d4f7913e944e9'), 'title': 'Witness First Mars Launch from West Coast', 'paragraph': \"NASA invites digital creators to apply for social media credentials to cover the launch of the InSight mission to Mars, May 3-5, at California's Vandenberg Air Force Base.\"}\n",
      "{'_id': ObjectId('5ae67179d89d4f7913e944ea'), 'title': 'NASA InSight Mission to Mars Arrives at Launch Site', 'paragraph': \"NASA's InSight spacecraft has arrived at Vandenberg Air Force Base in central California to begin final preparations for a launch this May.\"}\n"
     ]
    }
   ],
   "source": [
    "listings = db.newstitle.find()\n",
    "for listing in listings:\n",
    "    print(listing)"
   ]
  },
  {
   "cell_type": "code",
   "execution_count": 492,
   "metadata": {
    "collapsed": true
   },
   "outputs": [],
   "source": [
    "#Visit the url for JPL's Featured Space Image here.\n",
    "#Use splinter to navigate the site and find the image url for the current Featured Mars Image \n",
    "#and assign the url string to a variable called featured_image_url.\n",
    "\n",
    "browser = Browser('chrome', headless=False)\n",
    "url = 'https://www.jpl.nasa.gov/spaceimages/?search=&category=Mars'\n",
    "browser.visit(url)"
   ]
  },
  {
   "cell_type": "code",
   "execution_count": 493,
   "metadata": {},
   "outputs": [],
   "source": [
    "#click on element with partial text of 'FULL IMAGE', this is case sensitive\n",
    "browser.click_link_by_partial_text('FULL IMAGE')"
   ]
  },
  {
   "cell_type": "code",
   "execution_count": 494,
   "metadata": {},
   "outputs": [
    {
     "name": "stdout",
     "output_type": "stream",
     "text": [
      "https://www.jpl.nasa.gov/spaceimages/images/mediumsize/PIA14317_ip.jpg\n"
     ]
    }
   ],
   "source": [
    "#HTML Object\n",
    "html = browser.html\n",
    "# Parse HTML with Beautiful Soup\n",
    "soup = BeautifulSoup(html, 'html.parser')\n",
    "results = soup.find(class_='fancybox-image')\n",
    "url = results['src']\n",
    "featured_image_url = 'https://www.jpl.nasa.gov'+url\n",
    "print(featured_image_url)"
   ]
  },
  {
   "cell_type": "code",
   "execution_count": 335,
   "metadata": {
    "collapsed": true
   },
   "outputs": [],
   "source": [
    "#visit the Mars Twitter Account to scrape latest weather tweet\n",
    "#Save the tweet text for the weather report as a variable called mars_weather.\n",
    "browser = Browser('chrome', headless=False)\n",
    "url = 'https://twitter.com/marswxreport?lang=en'\n",
    "browser.visit(url)"
   ]
  },
  {
   "cell_type": "code",
   "execution_count": 336,
   "metadata": {},
   "outputs": [],
   "source": [
    "#url = 'https://twitter.com/marswxreport?lang=en'\n",
    "response = requests.get(url)\n",
    "# Create BeautifulSoup object; parse with 'html.parser'\n",
    "soup = BeautifulSoup(response.text, 'html.parser')"
   ]
  },
  {
   "cell_type": "code",
   "execution_count": 337,
   "metadata": {},
   "outputs": [
    {
     "name": "stdout",
     "output_type": "stream",
     "text": [
      "Sol 2033 (April 25, 2018), Sunny, high -10C/14F, low -71C/-95F, pressure at 7.23 hPa, daylight 05:24-17:20\n"
     ]
    }
   ],
   "source": [
    "#after inspecting site, return the first 'p' tag with class listed below to return latest weather tweet.\n",
    "#.find gets just the first one (latest).find_all would return all of them...\n",
    "\n",
    "mars_weather = soup.find('p', class_=\"TweetTextSize TweetTextSize--normal js-tweet-text tweet-text\").text\n",
    "print(mars_weather)\n"
   ]
  },
  {
   "cell_type": "code",
   "execution_count": 110,
   "metadata": {},
   "outputs": [
    {
     "data": {
      "text/plain": [
       "[                      0                              1\n",
       " 0  Equatorial Diameter:                       6,792 km\n",
       " 1       Polar Diameter:                       6,752 km\n",
       " 2                 Mass:  6.42 x 10^23 kg (10.7% Earth)\n",
       " 3                Moons:            2 (Phobos & Deimos)\n",
       " 4       Orbit Distance:       227,943,824 km (1.52 AU)\n",
       " 5         Orbit Period:           687 days (1.9 years)\n",
       " 6  Surface Temperature:                  -153 to 20 °C\n",
       " 7         First Record:              2nd millennium BC\n",
       " 8          Recorded By:           Egyptian astronomers]"
      ]
     },
     "execution_count": 110,
     "metadata": {},
     "output_type": "execute_result"
    }
   ],
   "source": [
    "#visit the Mars Facts webpage here and use Pandas to scrape the table containing facts about the planet \n",
    "#including Diameter, Mass, etc.\n",
    "#Use Pandas to convert the data to a HTML table string.\n",
    "\n",
    "url = 'https://space-facts.com/mars/'\n",
    "\n",
    "tables = pd.read_html(url)\n",
    "tables"
   ]
  },
  {
   "cell_type": "code",
   "execution_count": null,
   "metadata": {
    "collapsed": true
   },
   "outputs": [],
   "source": [
    "#Visit the USGS Astrogeology site to obtain high resolution images for each of Mar's hemispheres.\n",
    "#You will need to click each of the links to the hemispheres in order to find the image url to the full resolution image.\n",
    "#Save both the image url string for the full resolution hemipshere image, and the Hemisphere title \n",
    "#containing the hemisphere name. Use a Python dictionary to store the data using the keys img_url and title.\n",
    "#Append the dictionary with the image url string and the hemisphere title to a list. This list will contain one \n",
    "#dictionary for each hemisphere."
   ]
  },
  {
   "cell_type": "code",
   "execution_count": 352,
   "metadata": {
    "collapsed": true
   },
   "outputs": [],
   "source": [
    "browser = Browser('chrome', headless=False)\n",
    "url = 'https://astrogeology.usgs.gov/search/results?q=hemisphere+enhanced&k1=target&v1=Mars'\n",
    "browser.visit(url)"
   ]
  },
  {
   "cell_type": "code",
   "execution_count": 233,
   "metadata": {},
   "outputs": [
    {
     "name": "stdout",
     "output_type": "stream",
     "text": [
      "[<div class=\"item\"><a class=\"itemLink product-item\" href=\"/search/map/Mars/Viking/cerberus_enhanced\"><img alt=\"Cerberus Hemisphere Enhanced thumbnail\" class=\"thumb\" src=\"/cache/images/dfaf3849e74bf973b59eb50dab52b583_cerberus_enhanced.tif_thumb.png\"/></a><div class=\"description\"><a class=\"itemLink product-item\" href=\"/search/map/Mars/Viking/cerberus_enhanced\"><h3>Cerberus Hemisphere Enhanced</h3></a><span class=\"subtitle\" style=\"float:left\">image/tiff 21 MB</span><span class=\"pubDate\" style=\"float:right\"></span><br/><p>Mosaic of the Cerberus hemisphere of Mars projected into point perspective, a view similar to that which one would see from a spacecraft. This mosaic is composed of 104 Viking Orbiter images acquired…</p></div> <!-- end description --></div>, <div class=\"item\"><a class=\"itemLink product-item\" href=\"/search/map/Mars/Viking/schiaparelli_enhanced\"><img alt=\"Schiaparelli Hemisphere Enhanced thumbnail\" class=\"thumb\" src=\"/cache/images/7677c0a006b83871b5a2f66985ab5857_schiaparelli_enhanced.tif_thumb.png\"/></a><div class=\"description\"><a class=\"itemLink product-item\" href=\"/search/map/Mars/Viking/schiaparelli_enhanced\"><h3>Schiaparelli Hemisphere Enhanced</h3></a><span class=\"subtitle\" style=\"float:left\">image/tiff 35 MB</span><span class=\"pubDate\" style=\"float:right\"></span><br/><p>Mosaic of the Schiaparelli hemisphere of Mars projected into point perspective, a view similar to that which one would see from a spacecraft. The images were acquired in 1980 during early northern…</p></div> <!-- end description --></div>, <div class=\"item\"><a class=\"itemLink product-item\" href=\"/search/map/Mars/Viking/syrtis_major_enhanced\"><img alt=\"Syrtis Major Hemisphere Enhanced thumbnail\" class=\"thumb\" src=\"/cache/images/aae41197e40d6d4f3ea557f8cfe51d15_syrtis_major_enhanced.tif_thumb.png\"/></a><div class=\"description\"><a class=\"itemLink product-item\" href=\"/search/map/Mars/Viking/syrtis_major_enhanced\"><h3>Syrtis Major Hemisphere Enhanced</h3></a><span class=\"subtitle\" style=\"float:left\">image/tiff 25 MB</span><span class=\"pubDate\" style=\"float:right\"></span><br/><p>Mosaic of the Syrtis Major hemisphere of Mars projected into point perspective, a view similar to that which one would see from a spacecraft. This mosaic is composed of about 100 red and violet…</p></div> <!-- end description --></div>, <div class=\"item\"><a class=\"itemLink product-item\" href=\"/search/map/Mars/Viking/valles_marineris_enhanced\"><img alt=\"Valles Marineris Hemisphere Enhanced thumbnail\" class=\"thumb\" src=\"/cache/images/04085d99ec3713883a9a57f42be9c725_valles_marineris_enhanced.tif_thumb.png\"/></a><div class=\"description\"><a class=\"itemLink product-item\" href=\"/search/map/Mars/Viking/valles_marineris_enhanced\"><h3>Valles Marineris Hemisphere Enhanced</h3></a><span class=\"subtitle\" style=\"float:left\">image/tiff 27 MB</span><span class=\"pubDate\" style=\"float:right\"></span><br/><p>Mosaic of the Valles Marineris hemisphere of Mars projected into point perspective, a view similar to that which one would see from a spacecraft. The distance is 2500 kilometers from the surface of…</p></div> <!-- end description --></div>]\n"
     ]
    }
   ],
   "source": [
    "html = browser.html\n",
    "soup = BeautifulSoup(html, 'html.parser')\n",
    "results = soup.find_all(class_='item')\n",
    "print(results)\n"
   ]
  },
  {
   "cell_type": "code",
   "execution_count": 252,
   "metadata": {},
   "outputs": [
    {
     "name": "stdout",
     "output_type": "stream",
     "text": [
      "Cerberus Hemisphere Enhanced\n",
      "http://astropedia.astrogeology.usgs.gov/download/Mars/Viking/cerberus_enhanced.tif/full.jpg\n",
      "Schiaparelli Hemisphere Enhanced\n",
      "http://astropedia.astrogeology.usgs.gov/download/Mars/Viking/schiaparelli_enhanced.tif/full.jpg\n",
      "Syrtis Major Hemisphere Enhanced\n",
      "http://astropedia.astrogeology.usgs.gov/download/Mars/Viking/syrtis_major_enhanced.tif/full.jpg\n",
      "Valles Marineris Hemisphere Enhanced\n",
      "http://astropedia.astrogeology.usgs.gov/download/Mars/Viking/valles_marineris_enhanced.tif/full.jpg\n"
     ]
    }
   ],
   "source": [
    "mars_images=[]\n",
    "for result in results:\n",
    "    link=result.find('a')\n",
    "    links = link['href']\n",
    "    title =result.find('h3').text\n",
    "    url='https://astrogeology.usgs.gov'+links\n",
    "    browser = Browser('chrome', headless=False)\n",
    "    browser.visit(url)\n",
    "    html = browser.html\n",
    "    soup = BeautifulSoup(html, 'html.parser')\n",
    "    infos = soup.find_all(class_='downloads')\n",
    "    for info in infos:\n",
    "        link_two=info.find('a')\n",
    "        img_url=link_two['href']\n",
    "    print(title)\n",
    "    print(img_url)\n",
    "    post={'img_url':img_url, 'title':title}\n",
    "    mars_images.append(post)\n",
    "    "
   ]
  },
  {
   "cell_type": "code",
   "execution_count": 253,
   "metadata": {},
   "outputs": [
    {
     "data": {
      "text/plain": [
       "[{'img_url': 'http://astropedia.astrogeology.usgs.gov/download/Mars/Viking/cerberus_enhanced.tif/full.jpg',\n",
       "  'title': 'Cerberus Hemisphere Enhanced'},\n",
       " {'img_url': 'http://astropedia.astrogeology.usgs.gov/download/Mars/Viking/schiaparelli_enhanced.tif/full.jpg',\n",
       "  'title': 'Schiaparelli Hemisphere Enhanced'},\n",
       " {'img_url': 'http://astropedia.astrogeology.usgs.gov/download/Mars/Viking/syrtis_major_enhanced.tif/full.jpg',\n",
       "  'title': 'Syrtis Major Hemisphere Enhanced'},\n",
       " {'img_url': 'http://astropedia.astrogeology.usgs.gov/download/Mars/Viking/valles_marineris_enhanced.tif/full.jpg',\n",
       "  'title': 'Valles Marineris Hemisphere Enhanced'}]"
      ]
     },
     "execution_count": 253,
     "metadata": {},
     "output_type": "execute_result"
    }
   ],
   "source": [
    "mars_images"
   ]
  },
  {
   "cell_type": "code",
   "execution_count": 449,
   "metadata": {
    "collapsed": true
   },
   "outputs": [],
   "source": [
    "def init_browser():\n",
    "    # @NOTE: Replace the path with your actual path to the chromedriver\n",
    "    #executable_path = {\"executable_path\": \"./chromedriver\"}\n",
    "    browser = Browser('chrome', headless=False)\n",
    "    #return Browser(\"chrome\", **executable_path, headless=False)\n"
   ]
  },
  {
   "cell_type": "code",
   "execution_count": 506,
   "metadata": {},
   "outputs": [],
   "source": [
    "def scrape():\n",
    "    from bs4 import BeautifulSoup\n",
    "    from splinter import Browser\n",
    "    import requests\n",
    "    import pymongo\n",
    "    import time\n",
    "    import pandas as pd\n",
    "    browser = init_browser()\n",
    "    conn = 'mongodb://localhost:27017'\n",
    "    client = pymongo.MongoClient(conn)\n",
    "    db = client.mars_db\n",
    "    collection = db.newstitle\n",
    "    url = 'https://mars.nasa.gov/news/?page=0&per_page=40&order=publish_date+desc%2Ccreated_at+desc&search=&category=19%2C165%2C184%2C204&blank_scope=Latest'\n",
    "    response = requests.get(url)\n",
    "    time.sleep(1)\n",
    "    soup = BeautifulSoup(response.text, 'lxml')\n",
    "    results = soup.find_all(class_=\"slide\")\n",
    "    for result in results:\n",
    "    # Error handling\n",
    "        try:\n",
    "            paragraph = result.find(class_=\"rollover_description_inner\").text.replace('\\n', '')\n",
    "            title = result.find(class_=\"content_title\").text.replace('\\n', '')\n",
    "            post = {\"news_title\": title,\n",
    "                    \"news_p\":paragraph}\n",
    "\n",
    "            collection.insert_one(post)\n",
    "            \n",
    "        except Exception as e:\n",
    "               print(e)\n",
    "    browser = Browser('chrome', headless=False)\n",
    "    url = 'https://www.jpl.nasa.gov/spaceimages/?search=&category=Mars'\n",
    "    browser.visit(url)\n",
    "    time.sleep(1)\n",
    "    browser.click_link_by_partial_text('FULL IMAGE')\n",
    "    time.sleep(1)\n",
    "    #HTML Object \n",
    "    html = browser.html\n",
    "    # Parse HTML with Beautiful Soup\n",
    "    soup = BeautifulSoup(html, 'html.parser')\n",
    "    #find the class where pic is stored\n",
    "    results = soup.find(class_='fancybox-image')\n",
    "    #retrieve source attribute, i.e. the path\n",
    "    url = results['src']\n",
    "    #attach the path to the main site link, this is the full image link\n",
    "    featured_image_url = 'https://www.jpl.nasa.gov'+url\n",
    "    #visit the mars twitter page to get the Weather\n",
    "    url = 'https://twitter.com/marswxreport?lang=en'\n",
    "    browser.visit(url)\n",
    "    time.sleep(1)\n",
    "    response = requests.get(url)\n",
    "    #parse HTML with Beautiful soup, get the text\n",
    "    soup = BeautifulSoup(response.text, 'html.parser')\n",
    "    #get the text from the first p tag with appropriate class (from inspecting the site)\n",
    "    mars_weather = soup.find('p', class_=\"TweetTextSize TweetTextSize--normal js-tweet-text tweet-text\").text\n",
    "    browser = Browser('chrome', headless=False)\n",
    "    #visit the mars space facts site\n",
    "    url = 'https://space-facts.com/mars/'\n",
    "    #put the html from the site into a pandas dataframe\n",
    "    tables = pd.read_html(url)\n",
    "    #Visit the site to get images of Mars Hemispheres\n",
    "    url = 'https://astrogeology.usgs.gov/search/results?q=hemisphere+enhanced&k1=target&v1=Mars'\n",
    "    browser.visit(url)\n",
    "    time.sleep(1)\n",
    "    html = browser.html\n",
    "    soup = BeautifulSoup(html, 'html.parser')\n",
    "    results = soup.find_all(class_='item')\n",
    "    #an empty array to store dictionary\n",
    "    mars_images=[]\n",
    "    #loop through the item class\n",
    "    for result in results:\n",
    "        #find the first a tag\n",
    "        link=result.find('a')\n",
    "        #assign the href to variable 'links'\n",
    "        links = link['href']\n",
    "        #assign the link h3 title text to variable 'title'\n",
    "        title =result.find('h3').text\n",
    "        #concatenate the path with the main site link, assign to variable 'url'\n",
    "        url='https://astrogeology.usgs.gov'+links\n",
    "        #open brower, chromedriver\n",
    "        browser = Browser('chrome', headless=False)\n",
    "        #visit the concatenated url\n",
    "        browser.visit(url)\n",
    "        time.sleep(1)\n",
    "        html = browser.html\n",
    "        #parse the html with beautiful soup\n",
    "        soup = BeautifulSoup(html, 'html.parser')\n",
    "        #find all elemenst with class 'downloads', assign results to variable list 'infos'\n",
    "        infos = soup.find_all(class_='downloads')\n",
    "        #loop thru infos, pull out links to images, assign with title to dictionary post, and then append to list\n",
    "        #mars_images\n",
    "        for info in infos:\n",
    "            link_two=info.find('a')\n",
    "            img_url=link_two['href']\n",
    "            post={'img_url':img_url, 'title':title}\n",
    "            mars_images.append(post)\n",
    "          \n",
    "        "
   ]
  },
  {
   "cell_type": "code",
   "execution_count": 513,
   "metadata": {},
   "outputs": [],
   "source": [
    "scrape()"
   ]
  },
  {
   "cell_type": "code",
   "execution_count": 485,
   "metadata": {},
   "outputs": [
    {
     "name": "stdout",
     "output_type": "stream",
     "text": [
      "None\n"
     ]
    }
   ],
   "source": [
    "print(results)"
   ]
  },
  {
   "cell_type": "code",
   "execution_count": 508,
   "metadata": {},
   "outputs": [
    {
     "data": {
      "text/plain": [
       "[{'img_url': 'http://astropedia.astrogeology.usgs.gov/download/Mars/Viking/cerberus_enhanced.tif/full.jpg',\n",
       "  'title': 'Cerberus Hemisphere Enhanced'},\n",
       " {'img_url': 'http://astropedia.astrogeology.usgs.gov/download/Mars/Viking/schiaparelli_enhanced.tif/full.jpg',\n",
       "  'title': 'Schiaparelli Hemisphere Enhanced'},\n",
       " {'img_url': 'http://astropedia.astrogeology.usgs.gov/download/Mars/Viking/syrtis_major_enhanced.tif/full.jpg',\n",
       "  'title': 'Syrtis Major Hemisphere Enhanced'},\n",
       " {'img_url': 'http://astropedia.astrogeology.usgs.gov/download/Mars/Viking/valles_marineris_enhanced.tif/full.jpg',\n",
       "  'title': 'Valles Marineris Hemisphere Enhanced'}]"
      ]
     },
     "execution_count": 508,
     "metadata": {},
     "output_type": "execute_result"
    }
   ],
   "source": []
  },
  {
   "cell_type": "code",
   "execution_count": 518,
   "metadata": {},
   "outputs": [],
   "source": [
    "#confirm results in your collection 'newstitle'\n",
    "results = db.newstitle.find()\n",
    "for result in results:\n",
    "    print(result)"
   ]
  },
  {
   "cell_type": "code",
   "execution_count": 516,
   "metadata": {},
   "outputs": [],
   "source": [
    "db.newstitle.drop()"
   ]
  },
  {
   "cell_type": "code",
   "execution_count": null,
   "metadata": {
    "collapsed": true
   },
   "outputs": [],
   "source": []
  }
 ],
 "metadata": {
  "kernelspec": {
   "display_name": "Python 3",
   "language": "python",
   "name": "python3"
  },
  "language_info": {
   "codemirror_mode": {
    "name": "ipython",
    "version": 3
   },
   "file_extension": ".py",
   "mimetype": "text/x-python",
   "name": "python",
   "nbconvert_exporter": "python",
   "pygments_lexer": "ipython3",
   "version": "3.6.3"
  },
  "varInspector": {
   "cols": {
    "lenName": 16,
    "lenType": 16,
    "lenVar": 40
   },
   "kernels_config": {
    "python": {
     "delete_cmd_postfix": "",
     "delete_cmd_prefix": "del ",
     "library": "var_list.py",
     "varRefreshCmd": "print(var_dic_list())"
    },
    "r": {
     "delete_cmd_postfix": ") ",
     "delete_cmd_prefix": "rm(",
     "library": "var_list.r",
     "varRefreshCmd": "cat(var_dic_list()) "
    }
   },
   "types_to_exclude": [
    "module",
    "function",
    "builtin_function_or_method",
    "instance",
    "_Feature"
   ],
   "window_display": false
  }
 },
 "nbformat": 4,
 "nbformat_minor": 2
}
