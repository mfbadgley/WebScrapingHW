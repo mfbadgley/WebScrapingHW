{
 "cells": [
  {
   "cell_type": "code",
   "execution_count": null,
   "metadata": {
    "collapsed": true
   },
   "outputs": [],
   "source": [
    "#Scrape the NASA Mars News Site and collect the latest News Title and Paragragh Text. \n",
    "#Assign the text to variables that you can reference later.\n",
    "#Visit the url for JPL's Featured Space Image here.\n",
    "#Use splinter to navigate the site and find the image url for the current Featured Mars Image and assign \n",
    "#the url string to a variable called featured_image_url."
   ]
  },
  {
   "cell_type": "code",
   "execution_count": 8,
   "metadata": {
    "collapsed": true
   },
   "outputs": [],
   "source": [
    "# Dependencies\n",
    "from bs4 import BeautifulSoup\n",
    "from splinter import Browser\n",
    "import requests\n",
    "import pymongo\n",
    "import pandas as pd\n",
    "\n"
   ]
  },
  {
   "cell_type": "code",
   "execution_count": 9,
   "metadata": {
    "collapsed": true
   },
   "outputs": [],
   "source": [
    "# Initialize PyMongo to work with MongoDBs, make sure in terminal, fire up mongoDB by typing \"mongod\"\n",
    "conn = 'mongodb://localhost:27017'\n",
    "client = pymongo.MongoClient(conn)\n"
   ]
  },
  {
   "cell_type": "code",
   "execution_count": 11,
   "metadata": {},
   "outputs": [],
   "source": [
    "# Define database and collection\n",
    "db = client.mars_db\n",
    "collection = db.newstitle"
   ]
  },
  {
   "cell_type": "code",
   "execution_count": 649,
   "metadata": {
    "collapsed": true
   },
   "outputs": [],
   "source": [
    "#url to be scraped\n",
    "url = 'https://mars.nasa.gov/news/?page=0&per_page=40&order=publish_date+desc%2Ccreated_at+desc&search=&category=19%2C165%2C184%2C204&blank_scope=Latest'"
   ]
  },
  {
   "cell_type": "code",
   "execution_count": 650,
   "metadata": {
    "collapsed": true
   },
   "outputs": [],
   "source": [
    "# Retrieve page with the requests module\n",
    "response = requests.get(url)\n",
    "# Create BeautifulSoup object; parse with 'lxml'\n",
    "soup = BeautifulSoup(response.text, 'lxml')"
   ]
  },
  {
   "cell_type": "code",
   "execution_count": 659,
   "metadata": {},
   "outputs": [
    {
     "name": "stdout",
     "output_type": "stream",
     "text": [
      "[<div class=\"slide\">\n",
      "<div class=\"image_and_description_container\">\n",
      "<a href=\"/news/8326/nasa-invests-in-visionary-technology/\">\n",
      "<div class=\"rollover_description\">\n",
      "<div class=\"rollover_description_inner\">\n",
      "NASA is investing in technology concepts, including several from JPL, that may one day be used for future space exploration missions.\n",
      "</div>\n",
      "<div class=\"overlay_arrow\">\n",
      "<img alt=\"More\" src=\"/assets/overlay-arrow.png\"/>\n",
      "</div>\n",
      "</div>\n",
      "<img alt=\"NASA Invests in Visionary Technology \" class=\"img-lazy\" data-lazy=\"/system/news_items/list_view_images/8326_niac320.jpg\" src=\"/assets/loading_320x240.png\"/>\n",
      "</a>\n",
      "</div>\n",
      "<div class=\"content_title\">\n",
      "<a href=\"/news/8326/nasa-invests-in-visionary-technology/\">\n",
      "NASA Invests in Visionary Technology \n",
      "</a>\n",
      "</div>\n",
      "</div>, <div class=\"slide\">\n",
      "<div class=\"image_and_description_container\">\n",
      "<a href=\"/news/8325/nasa-is-ready-to-study-the-heart-of-mars/\">\n",
      "<div class=\"rollover_description\">\n",
      "<div class=\"rollover_description_inner\">\n",
      "NASA is about to go on a journey to study the center of Mars.\n",
      "</div>\n",
      "<div class=\"overlay_arrow\">\n",
      "<img alt=\"More\" src=\"/assets/overlay-arrow.png\"/>\n",
      "</div>\n",
      "</div>\n",
      "<img alt=\"NASA is Ready to Study the Heart of Mars\" class=\"img-lazy\" data-lazy=\"/system/news_items/list_view_images/8325_insight20180329b_320.jpg\" src=\"/assets/loading_320x240.png\"/>\n",
      "</a>\n",
      "</div>\n",
      "<div class=\"content_title\">\n",
      "<a href=\"/news/8325/nasa-is-ready-to-study-the-heart-of-mars/\">\n",
      "NASA is Ready to Study the Heart of Mars\n",
      "</a>\n",
      "</div>\n",
      "</div>, <div class=\"slide\">\n",
      "<div class=\"image_and_description_container\">\n",
      "<a href=\"/news/8322/nasa-briefing-on-first-mission-to-study-mars-interior/\">\n",
      "<div class=\"rollover_description\">\n",
      "<div class=\"rollover_description_inner\">\n",
      "NASA’s next mission to Mars will be the topic of a media briefing Thursday, March 29, at JPL. The briefing will air live on NASA Television and the agency’s website.\n",
      "</div>\n",
      "<div class=\"overlay_arrow\">\n",
      "<img alt=\"More\" src=\"/assets/overlay-arrow.png\"/>\n",
      "</div>\n",
      "</div>\n",
      "<img alt=\"NASA Briefing on First Mission to Study Mars Interior\" class=\"img-lazy\" data-lazy=\"/system/news_items/list_view_images/8322_PIA22228_320.jpg\" src=\"/assets/loading_320x240.png\"/>\n",
      "</a>\n",
      "</div>\n",
      "<div class=\"content_title\">\n",
      "<a href=\"/news/8322/nasa-briefing-on-first-mission-to-study-mars-interior/\">\n",
      "NASA Briefing on First Mission to Study Mars Interior\n",
      "</a>\n",
      "</div>\n",
      "</div>, <div class=\"slide\">\n",
      "<div class=\"image_and_description_container\">\n",
      "<a href=\"/news/8321/new-ar-mobile-app-features-3-d-nasa-spacecraft/\">\n",
      "<div class=\"rollover_description\">\n",
      "<div class=\"rollover_description_inner\">\n",
      "NASA spacecraft travel to far-off destinations in space, but a new mobile app produced by NASA's Jet Propulsion Laboratory, Pasadena, California, brings spacecraft to users.\n",
      "</div>\n",
      "<div class=\"overlay_arrow\">\n",
      "<img alt=\"More\" src=\"/assets/overlay-arrow.png\"/>\n",
      "</div>\n",
      "</div>\n",
      "<img alt=\"New 'AR' Mobile App Features 3-D NASA Spacecraft\" class=\"img-lazy\" data-lazy=\"/system/news_items/list_view_images/8321_list_image.jpg\" src=\"/assets/loading_320x240.png\"/>\n",
      "</a>\n",
      "</div>\n",
      "<div class=\"content_title\">\n",
      "<a href=\"/news/8321/new-ar-mobile-app-features-3-d-nasa-spacecraft/\">\n",
      "New 'AR' Mobile App Features 3-D NASA Spacecraft\n",
      "</a>\n",
      "</div>\n",
      "</div>, <div class=\"slide\">\n",
      "<div class=\"image_and_description_container\">\n",
      "<a href=\"/news/8317/witness-first-mars-launch-from-west-coast/\">\n",
      "<div class=\"rollover_description\">\n",
      "<div class=\"rollover_description_inner\">\n",
      "NASA invites digital creators to apply for social media credentials to cover the launch of the InSight mission to Mars, May 3-5, at California's Vandenberg Air Force Base.\n",
      "</div>\n",
      "<div class=\"overlay_arrow\">\n",
      "<img alt=\"More\" src=\"/assets/overlay-arrow.png\"/>\n",
      "</div>\n",
      "</div>\n",
      "<img alt=\"Witness First Mars Launch from West Coast\" class=\"img-lazy\" data-lazy=\"/system/news_items/list_view_images/8317_list_image.jpg\" src=\"/assets/loading_320x240.png\"/>\n",
      "</a>\n",
      "</div>\n",
      "<div class=\"content_title\">\n",
      "<a href=\"/news/8317/witness-first-mars-launch-from-west-coast/\">\n",
      "Witness First Mars Launch from West Coast\n",
      "</a>\n",
      "</div>\n",
      "</div>, <div class=\"slide\">\n",
      "<div class=\"image_and_description_container\">\n",
      "<a href=\"/news/8315/nasa-insight-mission-to-mars-arrives-at-launch-site/\">\n",
      "<div class=\"rollover_description\">\n",
      "<div class=\"rollover_description_inner\">\n",
      "NASA's InSight spacecraft has arrived at Vandenberg Air Force Base in central California to begin final preparations for a launch this May.\n",
      "</div>\n",
      "<div class=\"overlay_arrow\">\n",
      "<img alt=\"More\" src=\"/assets/overlay-arrow.png\"/>\n",
      "</div>\n",
      "</div>\n",
      "<img alt=\"NASA InSight Mission to Mars Arrives at Launch Site\" class=\"img-lazy\" data-lazy=\"/system/news_items/list_view_images/8315_list_image.jpg\" src=\"/assets/loading_320x240.png\"/>\n",
      "</a>\n",
      "</div>\n",
      "<div class=\"content_title\">\n",
      "<a href=\"/news/8315/nasa-insight-mission-to-mars-arrives-at-launch-site/\">\n",
      "NASA InSight Mission to Mars Arrives at Launch Site\n",
      "</a>\n",
      "</div>\n",
      "</div>]\n"
     ]
    }
   ],
   "source": [
    "# print(soup)\n",
    "# Examine the results, then determine element that contains sought info\n",
    "# results are returned as an iterable list\n",
    "results = soup.find_all(class_=\"slide\")\n",
    "print(results)"
   ]
  },
  {
   "cell_type": "code",
   "execution_count": 654,
   "metadata": {},
   "outputs": [
    {
     "name": "stdout",
     "output_type": "stream",
     "text": [
      "-------------\n",
      "NASA Invests in Visionary Technology \n",
      "NASA is investing in technology concepts, including several from JPL, that may one day be used for future space exploration missions.\n",
      "-------------\n",
      "NASA is Ready to Study the Heart of Mars\n",
      "NASA is about to go on a journey to study the center of Mars.\n",
      "-------------\n",
      "NASA Briefing on First Mission to Study Mars Interior\n",
      "NASA’s next mission to Mars will be the topic of a media briefing Thursday, March 29, at JPL. The briefing will air live on NASA Television and the agency’s website.\n",
      "-------------\n",
      "New 'AR' Mobile App Features 3-D NASA Spacecraft\n",
      "NASA spacecraft travel to far-off destinations in space, but a new mobile app produced by NASA's Jet Propulsion Laboratory, Pasadena, California, brings spacecraft to users.\n",
      "-------------\n",
      "Witness First Mars Launch from West Coast\n",
      "NASA invites digital creators to apply for social media credentials to cover the launch of the InSight mission to Mars, May 3-5, at California's Vandenberg Air Force Base.\n",
      "-------------\n",
      "NASA InSight Mission to Mars Arrives at Launch Site\n",
      "NASA's InSight spacecraft has arrived at Vandenberg Air Force Base in central California to begin final preparations for a launch this May.\n"
     ]
    }
   ],
   "source": [
    "# Loop through returned results\n",
    "for result in results:\n",
    "    # Error handling\n",
    "    try:\n",
    "        \n",
    "        \n",
    "        paragraph = result.find(class_=\"rollover_description_inner\").text.replace('\\n', '')\n",
    "        title = result.find(class_=\"content_title\").text.replace('\\n', '')\n",
    "        \n",
    "        # Print results only if title, price, and link are available\n",
    "        if (paragraph and title):\n",
    "            print('-------------')\n",
    "            print(title)\n",
    "            print(paragraph)\n",
    "            \n",
    "            \n",
    "            #Dictionary to be inserted as a MongoDb document\n",
    "            post = {\"title\": title,\n",
    "                    \"paragraph\":paragraph}\n",
    "            \n",
    "    except Exception as e:\n",
    "           print(e)\n",
    "        "
   ]
  },
  {
   "cell_type": "code",
   "execution_count": 492,
   "metadata": {
    "collapsed": true
   },
   "outputs": [],
   "source": [
    "#Visit the url for JPL's Featured Space Image here.\n",
    "#Use splinter to navigate the site and find the image url for the current Featured Mars Image \n",
    "#and assign the url string to a variable called featured_image_url.\n",
    "\n",
    "browser = Browser('chrome', headless=False)\n",
    "url = 'https://www.jpl.nasa.gov/spaceimages/?search=&category=Mars'\n",
    "browser.visit(url)"
   ]
  },
  {
   "cell_type": "code",
   "execution_count": 493,
   "metadata": {
    "collapsed": true
   },
   "outputs": [],
   "source": [
    "#click on element with partial text of 'FULL IMAGE', this is case sensitive\n",
    "browser.click_link_by_partial_text('FULL IMAGE')"
   ]
  },
  {
   "cell_type": "code",
   "execution_count": 494,
   "metadata": {},
   "outputs": [
    {
     "name": "stdout",
     "output_type": "stream",
     "text": [
      "https://www.jpl.nasa.gov/spaceimages/images/mediumsize/PIA14317_ip.jpg\n"
     ]
    }
   ],
   "source": [
    "#HTML Object\n",
    "html = browser.html\n",
    "# Parse HTML with Beautiful Soup\n",
    "soup = BeautifulSoup(html, 'html.parser')\n",
    "results = soup.find(class_='fancybox-image')\n",
    "url = results['src']\n",
    "featured_image_url = 'https://www.jpl.nasa.gov'+url\n",
    "print(featured_image_url)"
   ]
  },
  {
   "cell_type": "code",
   "execution_count": 335,
   "metadata": {
    "collapsed": true
   },
   "outputs": [],
   "source": [
    "#visit the Mars Twitter Account to scrape latest weather tweet\n",
    "#Save the tweet text for the weather report as a variable called mars_weather.\n",
    "browser = Browser('chrome', headless=False)\n",
    "url = 'https://twitter.com/marswxreport?lang=en'\n",
    "browser.visit(url)"
   ]
  },
  {
   "cell_type": "code",
   "execution_count": 336,
   "metadata": {
    "collapsed": true
   },
   "outputs": [],
   "source": [
    "#url = 'https://twitter.com/marswxreport?lang=en'\n",
    "response = requests.get(url)\n",
    "# Create BeautifulSoup object; parse with 'html.parser'\n",
    "soup = BeautifulSoup(response.text, 'html.parser')"
   ]
  },
  {
   "cell_type": "code",
   "execution_count": 337,
   "metadata": {},
   "outputs": [
    {
     "name": "stdout",
     "output_type": "stream",
     "text": [
      "Sol 2033 (April 25, 2018), Sunny, high -10C/14F, low -71C/-95F, pressure at 7.23 hPa, daylight 05:24-17:20\n"
     ]
    }
   ],
   "source": [
    "#after inspecting site, return the first 'p' tag with class listed below to return latest weather tweet.\n",
    "#.find gets just the first one (latest).find_all would return all of them...\n",
    "\n",
    "mars_weather = soup.find('p', class_=\"TweetTextSize TweetTextSize--normal js-tweet-text tweet-text\").text\n",
    "print(mars_weather)\n"
   ]
  },
  {
   "cell_type": "code",
   "execution_count": 40,
   "metadata": {},
   "outputs": [
    {
     "name": "stdout",
     "output_type": "stream",
     "text": [
      "                                             Values\n",
      "Characteristics                                    \n",
      "Equatorial Diameter:                       6,792 km\n",
      "Polar Diameter:                            6,752 km\n",
      "Mass:                 6.42 x 10^23 kg (10.7% Earth)\n",
      "Moons:                          2 (Phobos & Deimos)\n",
      "Orbit Distance:            227,943,824 km (1.52 AU)\n",
      "Orbit Period:                  687 days (1.9 years)\n",
      "Surface Temperature:                  -153 to 20 °C\n",
      "First Record:                     2nd millennium BC\n",
      "Recorded By:                   Egyptian astronomers\n"
     ]
    }
   ],
   "source": [
    "#visit the Mars Facts webpage here and use Pandas to scrape the table containing facts about the planet \n",
    "#including Diameter, Mass, etc.\n",
    "url = 'https://space-facts.com/mars/'\n",
    "#read the table, put into list variable\n",
    "tables = pd.read_html(url)\n",
    "#convert the list to a dataframe\n",
    "mars_df =tables[0].replace(\"/n\",\"\")\n",
    "#set column names \n",
    "mars_df.columns = [\"Characteristics\",\"Values\"]\n",
    "#set index to Characteristics\n",
    "mars_df = mars_df.set_index([\"Characteristics\"])\n",
    "#make it an html table\n",
    "print(mars_df)"
   ]
  },
  {
   "cell_type": "code",
   "execution_count": 41,
   "metadata": {
    "collapsed": true
   },
   "outputs": [],
   "source": [
    "#Visit the USGS Astrogeology site to obtain high resolution images for each of Mar's hemispheres.\n",
    "#You will need to click each of the links to the hemispheres in order to find the image url to the full resolution image.\n",
    "#Save both the image url string for the full resolution hemipshere image, and the Hemisphere title \n",
    "#containing the hemisphere name. Use a Python dictionary to store the data using the keys img_url and title.\n",
    "#Append the dictionary with the image url string and the hemisphere title to a list. This list will contain one \n",
    "#dictionary for each hemisphere."
   ]
  },
  {
   "cell_type": "code",
   "execution_count": 352,
   "metadata": {
    "collapsed": true
   },
   "outputs": [],
   "source": [
    "browser = Browser('chrome', headless=False)\n",
    "url = 'https://astrogeology.usgs.gov/search/results?q=hemisphere+enhanced&k1=target&v1=Mars'\n",
    "browser.visit(url)"
   ]
  },
  {
   "cell_type": "code",
   "execution_count": 233,
   "metadata": {},
   "outputs": [
    {
     "name": "stdout",
     "output_type": "stream",
     "text": [
      "[<div class=\"item\"><a class=\"itemLink product-item\" href=\"/search/map/Mars/Viking/cerberus_enhanced\"><img alt=\"Cerberus Hemisphere Enhanced thumbnail\" class=\"thumb\" src=\"/cache/images/dfaf3849e74bf973b59eb50dab52b583_cerberus_enhanced.tif_thumb.png\"/></a><div class=\"description\"><a class=\"itemLink product-item\" href=\"/search/map/Mars/Viking/cerberus_enhanced\"><h3>Cerberus Hemisphere Enhanced</h3></a><span class=\"subtitle\" style=\"float:left\">image/tiff 21 MB</span><span class=\"pubDate\" style=\"float:right\"></span><br/><p>Mosaic of the Cerberus hemisphere of Mars projected into point perspective, a view similar to that which one would see from a spacecraft. This mosaic is composed of 104 Viking Orbiter images acquired…</p></div> <!-- end description --></div>, <div class=\"item\"><a class=\"itemLink product-item\" href=\"/search/map/Mars/Viking/schiaparelli_enhanced\"><img alt=\"Schiaparelli Hemisphere Enhanced thumbnail\" class=\"thumb\" src=\"/cache/images/7677c0a006b83871b5a2f66985ab5857_schiaparelli_enhanced.tif_thumb.png\"/></a><div class=\"description\"><a class=\"itemLink product-item\" href=\"/search/map/Mars/Viking/schiaparelli_enhanced\"><h3>Schiaparelli Hemisphere Enhanced</h3></a><span class=\"subtitle\" style=\"float:left\">image/tiff 35 MB</span><span class=\"pubDate\" style=\"float:right\"></span><br/><p>Mosaic of the Schiaparelli hemisphere of Mars projected into point perspective, a view similar to that which one would see from a spacecraft. The images were acquired in 1980 during early northern…</p></div> <!-- end description --></div>, <div class=\"item\"><a class=\"itemLink product-item\" href=\"/search/map/Mars/Viking/syrtis_major_enhanced\"><img alt=\"Syrtis Major Hemisphere Enhanced thumbnail\" class=\"thumb\" src=\"/cache/images/aae41197e40d6d4f3ea557f8cfe51d15_syrtis_major_enhanced.tif_thumb.png\"/></a><div class=\"description\"><a class=\"itemLink product-item\" href=\"/search/map/Mars/Viking/syrtis_major_enhanced\"><h3>Syrtis Major Hemisphere Enhanced</h3></a><span class=\"subtitle\" style=\"float:left\">image/tiff 25 MB</span><span class=\"pubDate\" style=\"float:right\"></span><br/><p>Mosaic of the Syrtis Major hemisphere of Mars projected into point perspective, a view similar to that which one would see from a spacecraft. This mosaic is composed of about 100 red and violet…</p></div> <!-- end description --></div>, <div class=\"item\"><a class=\"itemLink product-item\" href=\"/search/map/Mars/Viking/valles_marineris_enhanced\"><img alt=\"Valles Marineris Hemisphere Enhanced thumbnail\" class=\"thumb\" src=\"/cache/images/04085d99ec3713883a9a57f42be9c725_valles_marineris_enhanced.tif_thumb.png\"/></a><div class=\"description\"><a class=\"itemLink product-item\" href=\"/search/map/Mars/Viking/valles_marineris_enhanced\"><h3>Valles Marineris Hemisphere Enhanced</h3></a><span class=\"subtitle\" style=\"float:left\">image/tiff 27 MB</span><span class=\"pubDate\" style=\"float:right\"></span><br/><p>Mosaic of the Valles Marineris hemisphere of Mars projected into point perspective, a view similar to that which one would see from a spacecraft. The distance is 2500 kilometers from the surface of…</p></div> <!-- end description --></div>]\n"
     ]
    }
   ],
   "source": [
    "html = browser.html\n",
    "soup = BeautifulSoup(html, 'html.parser')\n",
    "#return the data underneath the class 'item' tag\n",
    "results = soup.find_all(class_='item')\n",
    "print(results)\n"
   ]
  },
  {
   "cell_type": "code",
   "execution_count": 252,
   "metadata": {},
   "outputs": [
    {
     "name": "stdout",
     "output_type": "stream",
     "text": [
      "Cerberus Hemisphere Enhanced\n",
      "http://astropedia.astrogeology.usgs.gov/download/Mars/Viking/cerberus_enhanced.tif/full.jpg\n",
      "Schiaparelli Hemisphere Enhanced\n",
      "http://astropedia.astrogeology.usgs.gov/download/Mars/Viking/schiaparelli_enhanced.tif/full.jpg\n",
      "Syrtis Major Hemisphere Enhanced\n",
      "http://astropedia.astrogeology.usgs.gov/download/Mars/Viking/syrtis_major_enhanced.tif/full.jpg\n",
      "Valles Marineris Hemisphere Enhanced\n",
      "http://astropedia.astrogeology.usgs.gov/download/Mars/Viking/valles_marineris_enhanced.tif/full.jpg\n"
     ]
    }
   ],
   "source": [
    "mars_images=[]\n",
    "for result in results:\n",
    "    #reference the 'a' tags withing 'item' class\n",
    "    link=result.find('a')\n",
    "    #store the 'href', i.e. link in a variable 'links'\n",
    "    links = link['href']\n",
    "    #store the 'h3' tag text within item in a variable 'title'\n",
    "    title =result.find('h3').text\n",
    "    #attach the 'href' link from above to the main URL, so you can access the final page\n",
    "    url='https://astrogeology.usgs.gov'+links\n",
    "    browser = Browser('chrome', headless=False)\n",
    "    #visit the new concatenated URL\n",
    "    browser.visit(url)\n",
    "    html = browser.html\n",
    "    soup = BeautifulSoup(html, 'html.parser')\n",
    "    #reference the 'downloads' class, store in a variable 'infos'\n",
    "    infos = soup.find_all(class_='downloads')\n",
    "    #loop thru 'infos' pulling the 'a' tags, 'href', where full resolution image is stored\n",
    "    for info in infos:\n",
    "        link_two=info.find('a')\n",
    "        img_url=link_two['href']\n",
    "    print(title)\n",
    "    print(img_url)\n",
    "    #create a dictionary of title and image url\n",
    "    post={'img_url':img_url, 'title':title}\n",
    "    #append the dictionary to list/array 'mars_images'\n",
    "    mars_images.append(post)\n",
    "    "
   ]
  },
  {
   "cell_type": "code",
   "execution_count": 253,
   "metadata": {},
   "outputs": [
    {
     "data": {
      "text/plain": [
       "[{'img_url': 'http://astropedia.astrogeology.usgs.gov/download/Mars/Viking/cerberus_enhanced.tif/full.jpg',\n",
       "  'title': 'Cerberus Hemisphere Enhanced'},\n",
       " {'img_url': 'http://astropedia.astrogeology.usgs.gov/download/Mars/Viking/schiaparelli_enhanced.tif/full.jpg',\n",
       "  'title': 'Schiaparelli Hemisphere Enhanced'},\n",
       " {'img_url': 'http://astropedia.astrogeology.usgs.gov/download/Mars/Viking/syrtis_major_enhanced.tif/full.jpg',\n",
       "  'title': 'Syrtis Major Hemisphere Enhanced'},\n",
       " {'img_url': 'http://astropedia.astrogeology.usgs.gov/download/Mars/Viking/valles_marineris_enhanced.tif/full.jpg',\n",
       "  'title': 'Valles Marineris Hemisphere Enhanced'}]"
      ]
     },
     "execution_count": 253,
     "metadata": {},
     "output_type": "execute_result"
    }
   ],
   "source": [
    "mars_images"
   ]
  },
  {
   "cell_type": "code",
   "execution_count": 46,
   "metadata": {
    "collapsed": true
   },
   "outputs": [],
   "source": [
    "def init_browser():\n",
    "    browser = Browser('chrome', headless=False)\n",
    "    #return Browser(\"chrome\", **executable_path, headless=False)\n"
   ]
  },
  {
   "cell_type": "code",
   "execution_count": 47,
   "metadata": {
    "collapsed": true
   },
   "outputs": [],
   "source": [
    "def scrape():\n",
    "   \n",
    "    browser = init_browser()\n",
    "    url = 'https://mars.nasa.gov/news/?page=0&per_page=40&order=publish_date+desc%2Ccreated_at+desc&search=&category=19%2C165%2C184%2C204&blank_scope=Latest'\n",
    "    response = requests.get(url)\n",
    "    time.sleep(1)\n",
    "    soup = BeautifulSoup(response.text, 'lxml')\n",
    "    #grabbling the 'slide' class element from the url\n",
    "    results = soup.find_all(class_=\"slide\")\n",
    "    #creating a list to hold scraped data\n",
    "    news_data=[]\n",
    "    for result in results:\n",
    "    # Error handling\n",
    "        try: #loop thru and get the text within these classes, replace \\n with blank space\n",
    "            news_p = result.find(class_=\"rollover_description_inner\").text.replace('\\n', '')\n",
    "            news_title = result.find(class_=\"content_title\").text.replace('\\n', '')\n",
    "           \n",
    "            post = {\"news_title\": news_title,\n",
    "                    \"news_p\":news_p}\n",
    "\n",
    "            news_data.append(post)\n",
    "            print(post)\n",
    "          \n",
    "        except Exception as e:\n",
    "               print(e)\n",
    "    browser = Browser('chrome', headless=False)\n",
    "    url = 'https://www.jpl.nasa.gov/spaceimages/?search=&category=Mars'\n",
    "    browser.visit(url)\n",
    "    time.sleep(1)\n",
    "    #use splinter to click the \"Full Image\" button\n",
    "    browser.click_link_by_partial_text('FULL IMAGE')\n",
    "    time.sleep(1)\n",
    "    #HTML Object \n",
    "    html = browser.html\n",
    "    # Parse HTML with Beautiful Soup\n",
    "    soup = BeautifulSoup(html, 'html.parser')\n",
    "    #find the class where pic is stored\n",
    "    results = soup.find(class_='fancybox-image')\n",
    "    #retrieve source attribute, i.e. the path\n",
    "    url = results['src']\n",
    "    #attach the path to the main site link, this is the full image link\n",
    "    featured_image_url = 'https://www.jpl.nasa.gov'+url\n",
    "    post_two = {'featured_image':featured_image_url}\n",
    "    news_data.append(post_two)\n",
    "    print(post_two)\n",
    "    #visit the mars twitter page to get the Weather\n",
    "    url = 'https://twitter.com/marswxreport?lang=en'\n",
    "    browser.visit(url)\n",
    "    time.sleep(1)\n",
    "    response = requests.get(url)\n",
    "    #parse HTML with Beautiful soup, get the text\n",
    "    soup = BeautifulSoup(response.text, 'html.parser')\n",
    "    #get the text from the first p tag with appropriate class (from inspecting the site)\n",
    "    mars_weather = soup.find('p', class_=\"TweetTextSize TweetTextSize--normal js-tweet-text tweet-text\").text\n",
    "    post_three = {'mars_weather':mars_weather}\n",
    "    print(post_three)\n",
    "    news_data.append(post_three)\n",
    "    browser = Browser('chrome', headless=False)\n",
    "    #visit the mars space facts site\n",
    "    url = 'https://space-facts.com/mars/'\n",
    "    #read the table, put into list variable\n",
    "    tables = pd.read_html(url)\n",
    "    #convert the list to a dataframe\n",
    "    mars_df =tables[0]\n",
    "    #put column headers on \n",
    "    mars_df.columns = [\"Characteristic\", \"Value\"]\n",
    "    #convert the datframe to dictionary, using 'records' orientation, this does not neeed to be, nor should be, appended to news_data, as will create a list of a dictionary within the list, and not be able to be inserted to mongodb\n",
    "    mars_dict=mars_df.to_dict('records')\n",
    "    print(mars_dict)\n",
    "    #Visit the site to get images of Mars Hemispheres\n",
    "    url = 'https://astrogeology.usgs.gov/search/results?q=hemisphere+enhanced&k1=target&v1=Mars'\n",
    "    browser.visit(url)\n",
    "    time.sleep(1)\n",
    "    html = browser.html\n",
    "    soup = BeautifulSoup(html, 'html.parser')\n",
    "    results = soup.find_all(class_='item')\n",
    "  \n",
    "    #loop through the item class\n",
    "    for result in results:\n",
    "        #find the first a tag\n",
    "        link=result.find('a')\n",
    "        #assign the href to variable 'links'\n",
    "        links = link['href']\n",
    "        #assign the link h3 title text to variable 'title'\n",
    "        title =result.find('h3').text\n",
    "        #concatenate the path with the main site link, assign to variable 'url'\n",
    "        url='https://astrogeology.usgs.gov'+links\n",
    "        #open brower, chromedriver\n",
    "        browser = Browser('chrome', headless=False)\n",
    "        #visit the concatenated url\n",
    "        browser.visit(url)\n",
    "        time.sleep(1)\n",
    "        html = browser.html\n",
    "        #parse the html with beautiful soup\n",
    "        soup = BeautifulSoup(html, 'html.parser')\n",
    "        #find all elemenst with class 'downloads', assign results to variable list 'infos'\n",
    "        infos = soup.find_all(class_='downloads')\n",
    "        #loop thru infos, pull out links to images, assign with title to dictionary post, and then append to list\n",
    "        #mars_images\n",
    "        for info in infos:\n",
    "            link_two=info.find('a')\n",
    "            img_url=link_two['href']\n",
    "            post_four={'img_url':img_url, 'title':title}\n",
    "            news_data.append(post_four)\n",
    "            print(post_four)\n",
    "   \n",
    "   #return your data, so it can be accessed by flask app (where the insertion into mongodb will occur)\n",
    "    return news_data+mars_dict\n",
    "    \n",
    "            "
   ]
  },
  {
   "cell_type": "code",
   "execution_count": 48,
   "metadata": {},
   "outputs": [
    {
     "name": "stdout",
     "output_type": "stream",
     "text": [
      "{'news_title': 'NASA Invests in Visionary Technology ', 'news_p': 'NASA is investing in technology concepts, including several from JPL, that may one day be used for future space exploration missions.'}\n",
      "{'news_title': 'NASA is Ready to Study the Heart of Mars', 'news_p': 'NASA is about to go on a journey to study the center of Mars.'}\n",
      "{'news_title': 'NASA Briefing on First Mission to Study Mars Interior', 'news_p': 'NASA’s next mission to Mars will be the topic of a media briefing Thursday, March 29, at JPL. The briefing will air live on NASA Television and the agency’s website.'}\n",
      "{'news_title': \"New 'AR' Mobile App Features 3-D NASA Spacecraft\", 'news_p': \"NASA spacecraft travel to far-off destinations in space, but a new mobile app produced by NASA's Jet Propulsion Laboratory, Pasadena, California, brings spacecraft to users.\"}\n",
      "{'news_title': 'Witness First Mars Launch from West Coast', 'news_p': \"NASA invites digital creators to apply for social media credentials to cover the launch of the InSight mission to Mars, May 3-5, at California's Vandenberg Air Force Base.\"}\n",
      "{'news_title': 'NASA InSight Mission to Mars Arrives at Launch Site', 'news_p': \"NASA's InSight spacecraft has arrived at Vandenberg Air Force Base in central California to begin final preparations for a launch this May.\"}\n",
      "{'featured_image': 'https://www.jpl.nasa.gov/spaceimages/images/mediumsize/PIA18847_ip.jpg'}\n",
      "{'mars_weather': 'Sol 2039 (May 02, 2018), Sunny, high 0C/32F, low -74C/-101F, pressure at 7.28 hPa, daylight 05:23-17:20'}\n",
      "[{'Characteristic': 'Equatorial Diameter:', 'Value': '6,792 km'}, {'Characteristic': 'Polar Diameter:', 'Value': '6,752 km'}, {'Characteristic': 'Mass:', 'Value': '6.42 x 10^23 kg (10.7% Earth)'}, {'Characteristic': 'Moons:', 'Value': '2 (Phobos & Deimos)'}, {'Characteristic': 'Orbit Distance:', 'Value': '227,943,824 km (1.52 AU)'}, {'Characteristic': 'Orbit Period:', 'Value': '687 days (1.9 years)'}, {'Characteristic': 'Surface Temperature:', 'Value': '-153 to 20 °C'}, {'Characteristic': 'First Record:', 'Value': '2nd millennium BC'}, {'Characteristic': 'Recorded By:', 'Value': 'Egyptian astronomers'}]\n",
      "{'img_url': 'http://astropedia.astrogeology.usgs.gov/download/Mars/Viking/cerberus_enhanced.tif/full.jpg', 'title': 'Cerberus Hemisphere Enhanced'}\n",
      "{'img_url': 'http://astropedia.astrogeology.usgs.gov/download/Mars/Viking/schiaparelli_enhanced.tif/full.jpg', 'title': 'Schiaparelli Hemisphere Enhanced'}\n",
      "{'img_url': 'http://astropedia.astrogeology.usgs.gov/download/Mars/Viking/syrtis_major_enhanced.tif/full.jpg', 'title': 'Syrtis Major Hemisphere Enhanced'}\n",
      "{'img_url': 'http://astropedia.astrogeology.usgs.gov/download/Mars/Viking/valles_marineris_enhanced.tif/full.jpg', 'title': 'Valles Marineris Hemisphere Enhanced'}\n"
     ]
    },
    {
     "data": {
      "text/plain": [
       "[{'news_p': 'NASA is investing in technology concepts, including several from JPL, that may one day be used for future space exploration missions.',\n",
       "  'news_title': 'NASA Invests in Visionary Technology '},\n",
       " {'news_p': 'NASA is about to go on a journey to study the center of Mars.',\n",
       "  'news_title': 'NASA is Ready to Study the Heart of Mars'},\n",
       " {'news_p': 'NASA’s next mission to Mars will be the topic of a media briefing Thursday, March 29, at JPL. The briefing will air live on NASA Television and the agency’s website.',\n",
       "  'news_title': 'NASA Briefing on First Mission to Study Mars Interior'},\n",
       " {'news_p': \"NASA spacecraft travel to far-off destinations in space, but a new mobile app produced by NASA's Jet Propulsion Laboratory, Pasadena, California, brings spacecraft to users.\",\n",
       "  'news_title': \"New 'AR' Mobile App Features 3-D NASA Spacecraft\"},\n",
       " {'news_p': \"NASA invites digital creators to apply for social media credentials to cover the launch of the InSight mission to Mars, May 3-5, at California's Vandenberg Air Force Base.\",\n",
       "  'news_title': 'Witness First Mars Launch from West Coast'},\n",
       " {'news_p': \"NASA's InSight spacecraft has arrived at Vandenberg Air Force Base in central California to begin final preparations for a launch this May.\",\n",
       "  'news_title': 'NASA InSight Mission to Mars Arrives at Launch Site'},\n",
       " {'featured_image': 'https://www.jpl.nasa.gov/spaceimages/images/mediumsize/PIA18847_ip.jpg'},\n",
       " {'mars_weather': 'Sol 2039 (May 02, 2018), Sunny, high 0C/32F, low -74C/-101F, pressure at 7.28 hPa, daylight 05:23-17:20'},\n",
       " {'img_url': 'http://astropedia.astrogeology.usgs.gov/download/Mars/Viking/cerberus_enhanced.tif/full.jpg',\n",
       "  'title': 'Cerberus Hemisphere Enhanced'},\n",
       " {'img_url': 'http://astropedia.astrogeology.usgs.gov/download/Mars/Viking/schiaparelli_enhanced.tif/full.jpg',\n",
       "  'title': 'Schiaparelli Hemisphere Enhanced'},\n",
       " {'img_url': 'http://astropedia.astrogeology.usgs.gov/download/Mars/Viking/syrtis_major_enhanced.tif/full.jpg',\n",
       "  'title': 'Syrtis Major Hemisphere Enhanced'},\n",
       " {'img_url': 'http://astropedia.astrogeology.usgs.gov/download/Mars/Viking/valles_marineris_enhanced.tif/full.jpg',\n",
       "  'title': 'Valles Marineris Hemisphere Enhanced'},\n",
       " {'Characteristic': 'Equatorial Diameter:', 'Value': '6,792 km'},\n",
       " {'Characteristic': 'Polar Diameter:', 'Value': '6,752 km'},\n",
       " {'Characteristic': 'Mass:', 'Value': '6.42 x 10^23 kg (10.7% Earth)'},\n",
       " {'Characteristic': 'Moons:', 'Value': '2 (Phobos & Deimos)'},\n",
       " {'Characteristic': 'Orbit Distance:', 'Value': '227,943,824 km (1.52 AU)'},\n",
       " {'Characteristic': 'Orbit Period:', 'Value': '687 days (1.9 years)'},\n",
       " {'Characteristic': 'Surface Temperature:', 'Value': '-153 to 20 °C'},\n",
       " {'Characteristic': 'First Record:', 'Value': '2nd millennium BC'},\n",
       " {'Characteristic': 'Recorded By:', 'Value': 'Egyptian astronomers'}]"
      ]
     },
     "execution_count": 48,
     "metadata": {},
     "output_type": "execute_result"
    }
   ],
   "source": [
    "scrape()"
   ]
  },
  {
   "cell_type": "code",
   "execution_count": 49,
   "metadata": {
    "collapsed": true
   },
   "outputs": [],
   "source": [
    "from bs4 import BeautifulSoup\n",
    "from splinter import Browser\n",
    "import requests\n",
    "import pymongo\n",
    "import time\n",
    "import pandas as pd\n",
    "\n",
    "def init_browser():\n",
    "        browser = Browser('chrome', headless=False)\n",
    "\n",
    "def scrape_mars_two():\n",
    "    browser = init_browser()\n",
    "    url = 'https://mars.nasa.gov/news/?page=0&per_page=40&order=publish_date+desc%2Ccreated_at+desc&search=&category=19%2C165%2C184%2C204&blank_scope=Latest'\n",
    "    response = requests.get(url)\n",
    "    time.sleep(1)\n",
    "    soup = BeautifulSoup(response.text, 'lxml')\n",
    "    #create an empty dictionary to store values\n",
    "    news_data={}\n",
    "    #find the appropriate div class containing target data to scrape, scrape text and assign to variables\n",
    "    news_p = soup.find_all('div',class_=\"rollover_description_inner\")[0].text.strip()\n",
    "    news_title = soup.find_all('div',class_=\"content_title\")[0].text.strip()\n",
    "    #put the variables into a dictionary\n",
    "    post = {\"news_title\": news_title,\n",
    "                    \"news_p\":news_p}\n",
    "    print(post)\n",
    "    #update the main dictionary with the new dictionary \n",
    "    news_data.update(post)\n",
    "    browser = Browser('chrome', headless=False)\n",
    "    #new URL to scrape \n",
    "    url = 'https://www.jpl.nasa.gov/spaceimages/?search=&category=Mars'\n",
    "    browser.visit(url)\n",
    "    time.sleep(1)\n",
    "    #use splinter to click on button \n",
    "    browser.click_link_by_partial_text('FULL IMAGE')\n",
    "    time.sleep(1)\n",
    "    #HTML Object \n",
    "    html = browser.html\n",
    "    # Parse HTML with Beautiful Soup\n",
    "    soup = BeautifulSoup(html, 'html.parser')\n",
    "    #find the class where pic is stored\n",
    "    results = soup.find(class_='fancybox-image')\n",
    "    #retrieve source attribute, i.e. the path\n",
    "    url = results['src']\n",
    "    #attach the path to the main site link, this is the full image link\n",
    "    featured_image_url = 'https://www.jpl.nasa.gov'+url\n",
    "    #store the full image link in a dictionary\n",
    "    post_two = {'featured_image':featured_image_url}\n",
    "    #update the main dictionary with the new dictionary data\n",
    "    news_data.update(post_two)\n",
    "    print(post_two)\n",
    "    #visit the mars twitter page to get the Weather\n",
    "    url = 'https://twitter.com/marswxreport?lang=en'\n",
    "    browser.visit(url)\n",
    "    time.sleep(1)\n",
    "    response = requests.get(url)\n",
    "    #parse HTML with Beautiful soup, get the text\n",
    "    soup = BeautifulSoup(response.text, 'html.parser')\n",
    "    #get the text from the first p tag with appropriate class (from inspecting the site)\n",
    "    mars_weather = soup.find('p', class_=\"TweetTextSize TweetTextSize--normal js-tweet-text tweet-text\").text\n",
    "    #store the weather tweet in a dictionary\n",
    "    post_three = {'mars_weather':mars_weather}\n",
    "    #update the maind dictionary with the new dictionary data\n",
    "    news_data.update(post_three)\n",
    "    print(post_three)\n",
    "    browser = Browser('chrome', headless=False)\n",
    "    #new URL to be scraped\n",
    "    url = 'https://space-facts.com/mars/'\n",
    "    #read the table, put into list variable\n",
    "    tables = pd.read_html(url)\n",
    "    #convert the list to a dataframe\n",
    "    mars_df =tables[0]\n",
    "    #set column names \n",
    "    mars_df.columns = [\"Characteristics\",\"Values\"]\n",
    "    #set index to Characteristics\n",
    "    mars_df = mars_df.set_index([\"Characteristics\"])\n",
    "    #make it an html table\n",
    "    mars_df.to_html(\"mars_data.html\")\n",
    "    #put the whole table into a dictionary item\n",
    "    table_post={\"mars_table\":mars_df}\n",
    "    #update the main dictionary with the table dictionary\n",
    "    news_data.update(table_post) \n",
    "    print(table_post)\n",
    "    browser = Browser('chrome', headless=False)\n",
    "    #new URL to be scraped\n",
    "    url = 'https://astrogeology.usgs.gov/search/results?q=hemisphere+enhanced&k1=target&v1=Mars'\n",
    "    browser.visit(url)\n",
    "    time.sleep(1)\n",
    "    html = browser.html\n",
    "    soup = BeautifulSoup(html, 'html.parser')\n",
    "    results = soup.find_all(class_='item')\n",
    "    #an empty array to store dictionary\n",
    "    image_data=[]\n",
    "    #loop through the item class\n",
    "    for result in results:\n",
    "        #find the first a tag\n",
    "        link=result.find('a')\n",
    "        #assign the href to variable 'links'\n",
    "        links = link['href']\n",
    "        #assign the link h3 title text to variable 'title'\n",
    "        title =result.find('h3').text\n",
    "        #concatenate the path with the main site link, assign to variable 'url'\n",
    "        url='https://astrogeology.usgs.gov'+links\n",
    "        #open brower, chromedriver\n",
    "        browser = Browser('chrome', headless=False)\n",
    "        #visit the concatenated url\n",
    "        browser.visit(url)\n",
    "        time.sleep(1)\n",
    "        html = browser.html\n",
    "        #parse the html with beautiful soup\n",
    "        soup = BeautifulSoup(html, 'html.parser')\n",
    "        #find all elemenst with class 'downloads', assign results to variable list 'infos'\n",
    "        infos = soup.find_all(class_='downloads')\n",
    "        \n",
    "        for info in infos:\n",
    "            link_two=info.find('a')\n",
    "            img_url=link_two['href']\n",
    "            post_four={'img_url':img_url, 'title':title}\n",
    "            image_data.append(post_four)\n",
    "\n",
    "     #update main dictionary with new data\n",
    "    post_five={\"image_data\":image_data}\n",
    "    print(post_five)\n",
    "   \n",
    "    news_data.update(post_five)\n",
    "    return news_data\n",
    "            \n"
   ]
  },
  {
   "cell_type": "code",
   "execution_count": 51,
   "metadata": {},
   "outputs": [
    {
     "name": "stdout",
     "output_type": "stream",
     "text": [
      "{'news_title': 'NASA Invests in Visionary Technology', 'news_p': 'NASA is investing in technology concepts, including several from JPL, that may one day be used for future space exploration missions.'}\n",
      "{'featured_image': 'https://www.jpl.nasa.gov/spaceimages/images/mediumsize/PIA18847_ip.jpg'}\n",
      "{'mars_weather': 'Sol 2039 (May 02, 2018), Sunny, high 0C/32F, low -74C/-101F, pressure at 7.28 hPa, daylight 05:23-17:20'}\n",
      "{'mars_table':                                              Values\n",
      "Characteristics                                    \n",
      "Equatorial Diameter:                       6,792 km\n",
      "Polar Diameter:                            6,752 km\n",
      "Mass:                 6.42 x 10^23 kg (10.7% Earth)\n",
      "Moons:                          2 (Phobos & Deimos)\n",
      "Orbit Distance:            227,943,824 km (1.52 AU)\n",
      "Orbit Period:                  687 days (1.9 years)\n",
      "Surface Temperature:                  -153 to 20 °C\n",
      "First Record:                     2nd millennium BC\n",
      "Recorded By:                   Egyptian astronomers}\n",
      "{'image_data': [{'img_url': 'http://astropedia.astrogeology.usgs.gov/download/Mars/Viking/cerberus_enhanced.tif/full.jpg', 'title': 'Cerberus Hemisphere Enhanced'}, {'img_url': 'http://astropedia.astrogeology.usgs.gov/download/Mars/Viking/schiaparelli_enhanced.tif/full.jpg', 'title': 'Schiaparelli Hemisphere Enhanced'}, {'img_url': 'http://astropedia.astrogeology.usgs.gov/download/Mars/Viking/syrtis_major_enhanced.tif/full.jpg', 'title': 'Syrtis Major Hemisphere Enhanced'}, {'img_url': 'http://astropedia.astrogeology.usgs.gov/download/Mars/Viking/valles_marineris_enhanced.tif/full.jpg', 'title': 'Valles Marineris Hemisphere Enhanced'}]}\n"
     ]
    },
    {
     "data": {
      "text/plain": [
       "{'featured_image': 'https://www.jpl.nasa.gov/spaceimages/images/mediumsize/PIA18847_ip.jpg',\n",
       " 'image_data': [{'img_url': 'http://astropedia.astrogeology.usgs.gov/download/Mars/Viking/cerberus_enhanced.tif/full.jpg',\n",
       "   'title': 'Cerberus Hemisphere Enhanced'},\n",
       "  {'img_url': 'http://astropedia.astrogeology.usgs.gov/download/Mars/Viking/schiaparelli_enhanced.tif/full.jpg',\n",
       "   'title': 'Schiaparelli Hemisphere Enhanced'},\n",
       "  {'img_url': 'http://astropedia.astrogeology.usgs.gov/download/Mars/Viking/syrtis_major_enhanced.tif/full.jpg',\n",
       "   'title': 'Syrtis Major Hemisphere Enhanced'},\n",
       "  {'img_url': 'http://astropedia.astrogeology.usgs.gov/download/Mars/Viking/valles_marineris_enhanced.tif/full.jpg',\n",
       "   'title': 'Valles Marineris Hemisphere Enhanced'}],\n",
       " 'mars_table':                                              Values\n",
       " Characteristics                                    \n",
       " Equatorial Diameter:                       6,792 km\n",
       " Polar Diameter:                            6,752 km\n",
       " Mass:                 6.42 x 10^23 kg (10.7% Earth)\n",
       " Moons:                          2 (Phobos & Deimos)\n",
       " Orbit Distance:            227,943,824 km (1.52 AU)\n",
       " Orbit Period:                  687 days (1.9 years)\n",
       " Surface Temperature:                  -153 to 20 °C\n",
       " First Record:                     2nd millennium BC\n",
       " Recorded By:                   Egyptian astronomers,\n",
       " 'mars_weather': 'Sol 2039 (May 02, 2018), Sunny, high 0C/32F, low -74C/-101F, pressure at 7.28 hPa, daylight 05:23-17:20',\n",
       " 'news_p': 'NASA is investing in technology concepts, including several from JPL, that may one day be used for future space exploration missions.',\n",
       " 'news_title': 'NASA Invests in Visionary Technology'}"
      ]
     },
     "execution_count": 51,
     "metadata": {},
     "output_type": "execute_result"
    }
   ],
   "source": [
    "scrape_mars_two()"
   ]
  },
  {
   "cell_type": "code",
   "execution_count": 17,
   "metadata": {},
   "outputs": [],
   "source": [
    "for news in news_data:\n",
    "    db.marsdata.insert_one(news)"
   ]
  },
  {
   "cell_type": "code",
   "execution_count": 25,
   "metadata": {},
   "outputs": [],
   "source": [
    "db.marsdata.drop()"
   ]
  },
  {
   "cell_type": "code",
   "execution_count": 37,
   "metadata": {},
   "outputs": [],
   "source": [
    "results = db.marsdata.find()\n",
    "for result in results:\n",
    "    print(result)"
   ]
  },
  {
   "cell_type": "code",
   "execution_count": null,
   "metadata": {
    "collapsed": true
   },
   "outputs": [],
   "source": []
  }
 ],
 "metadata": {
  "kernelspec": {
   "display_name": "Python 3",
   "language": "python",
   "name": "python3"
  },
  "language_info": {
   "codemirror_mode": {
    "name": "ipython",
    "version": 3
   },
   "file_extension": ".py",
   "mimetype": "text/x-python",
   "name": "python",
   "nbconvert_exporter": "python",
   "pygments_lexer": "ipython3",
   "version": "3.6.3"
  },
  "varInspector": {
   "cols": {
    "lenName": 16,
    "lenType": 16,
    "lenVar": 40
   },
   "kernels_config": {
    "python": {
     "delete_cmd_postfix": "",
     "delete_cmd_prefix": "del ",
     "library": "var_list.py",
     "varRefreshCmd": "print(var_dic_list())"
    },
    "r": {
     "delete_cmd_postfix": ") ",
     "delete_cmd_prefix": "rm(",
     "library": "var_list.r",
     "varRefreshCmd": "cat(var_dic_list()) "
    }
   },
   "types_to_exclude": [
    "module",
    "function",
    "builtin_function_or_method",
    "instance",
    "_Feature"
   ],
   "window_display": false
  }
 },
 "nbformat": 4,
 "nbformat_minor": 2
}
